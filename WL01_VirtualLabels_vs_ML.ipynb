{
 "cells": [
  {
   "cell_type": "markdown",
   "metadata": {
    "slideshow": {
     "slide_type": "slide"
    }
   },
   "source": [
    "# A point analysis of weak learning models\n",
    "\n",
    "    Notebook version: 1.3 (Jan 04, 2021)\n",
    "\n",
    "    Author: Jesús Cid Sueiro (jcid@tsc.uc3m.es)"
   ]
  },
  {
   "cell_type": "markdown",
   "metadata": {
    "slideshow": {
     "slide_type": "notes"
    }
   },
   "source": [
    "    Changes: v.1.0 - First version\n",
    "             v.1.3 - Implements optimal reconstructions"
   ]
  },
  {
   "cell_type": "code",
   "execution_count": 1,
   "metadata": {
    "collapsed": false,
    "jupyter": {
     "outputs_hidden": false
    },
    "slideshow": {
     "slide_type": "slide"
    }
   },
   "outputs": [],
   "source": [
    "# To visualize plots in the notebook\n",
    "%matplotlib inline \n",
    "import matplotlib.pyplot as plt\n",
    "\n",
    "# Import some libraries that will be necessary for working with data\n",
    "import numpy as np\n",
    "from collections import Counter\n",
    "# from scipy import spatial\n",
    "# from sklearn import neighbors, datasets\n",
    "\n",
    "# Local imports\n",
    "import wlc.WLweakener as wlw\n"
   ]
  },
  {
   "cell_type": "markdown",
   "metadata": {
    "slideshow": {
     "slide_type": "slide"
    }
   },
   "source": [
    "\n",
    "## 1. Introduction.\n",
    "\n",
    "In this notebook we analyze the behavior of sample based estimates of a $C$-dimensional probability vector $\\boldsymbol{\\eta}$ from binary vector instances.\n",
    "\n",
    "The main goal is to compare the behavior of a \"supervised\" estimate, based on a set of labels $\\{{\\bf y}_k, k=0,\\ldots, K-1\\}$ generated from $\\boldsymbol{\\eta}$, and estimates based on weak labels, $\\{{\\bf b}_k, k=0,\\ldots, K-1\\}$, generated from some related distribution ${\\bf p} = {\\bf M}\\boldsymbol{\\eta}$, where ${\\bf M}$ is called a mixing matrix and contains conditional probabilities.\n",
    "\n",
    "To do so, we will generate a dataset of labels drawn from $\\boldsymbol{\\eta}$, and one or more datasets of weak labels drawn from ${\\bf p}$.\n",
    "\n",
    "First we define some configurable parameters:"
   ]
  },
  {
   "cell_type": "code",
   "execution_count": 2,
   "metadata": {
    "collapsed": false,
    "jupyter": {
     "outputs_hidden": false
    }
   },
   "outputs": [],
   "source": [
    "# CONFIGURABLE PARAMETERS FOR THE WHOLE NOTEBOOK\n",
    "K = 100000                        # Sample size\n",
    "\n",
    "# Number of classes\n",
    "C = 4\n",
    "\n",
    "# Parameters of the dirichlet model for eta\n",
    "alpha_eta = 0.5\n",
    "\n",
    "# Weak Label model. Used to generate the mixing matrix.\n",
    "# Available options are: quasi_IPL, noisy, random_noise ...\n",
    "wl_model = 'random_weak'   # 'quasi-IPL'    # 'random_noise'   # 'noisy', 'quasi_IPL'\n",
    "\n",
    "# Parameters of the weak label model\n",
    "alpha_M = 0.9\n",
    "beta_M = 4\n",
    "\n",
    "# Virtual label model\n",
    "# This is the model used to estimate the virtual label matrix (only for some cell)\n",
    "# Available options are: binary, quasi_IPL, M-pinv, M-conv, M-opt, M-opt_conv, ...\n",
    "vl_model = 'M-pinv'\n",
    "\n",
    "# Seed\n",
    "np.random.seed(3)"
   ]
  },
  {
   "cell_type": "markdown",
   "metadata": {},
   "source": [
    "### 1.1 Model"
   ]
  },
  {
   "cell_type": "markdown",
   "metadata": {},
   "source": [
    "#### 1.1.1. Target probabilities\n",
    "\n",
    "In the following, we will generate the target probability vector using a dirichlet model. Alternativelly, you can assign a determistic probability vector (with size $C$)."
   ]
  },
  {
   "cell_type": "code",
   "execution_count": 3,
   "metadata": {},
   "outputs": [
    {
     "name": "stdout",
     "output_type": "stream",
     "text": [
      "Target probabilities: [0.57061111 0.00837201 0.28556859 0.13544829]\n"
     ]
    }
   ],
   "source": [
    "# Stochastically generated probability vector...\n",
    "np.random.seed(500)\n",
    "eta = np.random.dirichlet(alpha_eta * np.ones(C))\n",
    "\n",
    "# Probability vector\n",
    "# eta = np.array([0.5, 0.2, 0.3])   # True probability vector\n",
    "# eta = np.array([0.35, 0.3, 0.2, 0.1, 0.03, 0.02])   # True probability vector\n",
    "# C = len(eta)   \n",
    "\n",
    "print(f\"Target probabilities: {eta}\")\n"
   ]
  },
  {
   "cell_type": "markdown",
   "metadata": {},
   "source": [
    "#### 1.1.2. Mixing Matrix.\n",
    "\n",
    "Based on the selected weak label model, we generate and visualize the corresponding mixing matrix."
   ]
  },
  {
   "cell_type": "code",
   "execution_count": 4,
   "metadata": {
    "collapsed": false,
    "jupyter": {
     "outputs_hidden": false
    }
   },
   "outputs": [
    {
     "name": "stdout",
     "output_type": "stream",
     "text": [
      "Weak classes: [ 0  1  2  3  4  5  6  7  8  9 10 11 12 13 14 15]\n"
     ]
    },
    {
     "data": {
      "image/png": "[encoded data removed]",
      "text/plain": [
       "<Figure size 432x432 with 2 Axes>"
      ]
     },
     "metadata": {
      "needs_background": "light"
     },
     "output_type": "display_data"
    }
   ],
   "source": [
    "# Create a weak label model object\n",
    "WLM = wlw.WLmodel(C, model_class=wl_model)\n",
    "\n",
    "# Generate a mixing matrix\n",
    "M = WLM.generateM(alpha=alpha_M, beta=beta_M)\n",
    "n_weak = M.shape[0]      # Number of weak categories\n",
    "\n",
    "# Remove weak classes with zero probability\n",
    "WLM.remove_zero_rows()\n",
    "M = WLM.M                # This is just to abbreviate\n",
    "print(f\"Weak classes: {WLM.weak_classes}\")\n",
    "\n",
    "# Show mixing matrix\n",
    "if n_weak < 5:\n",
    "    print(\"Mixing matrix:\")\n",
    "    print(M)\n",
    "    print(f\"Corresponding to weak label indices {dec_labels}\")\n",
    "\n",
    "plt.figure(figsize=(6, 6))\n",
    "plt.imshow(M, interpolation='nearest', cmap=\"gray\", clim=(0.0, np.max(M))) \n",
    "plt.colorbar()\n",
    "plt.title('Mixing Matrix')\n",
    "plt.xlabel('True label')\n",
    "plt.ylabel('Weak label')\n",
    "plt.xticks([], [])\n",
    "plt.yticks([], [])\n",
    "plt.show()"
   ]
  },
  {
   "cell_type": "markdown",
   "metadata": {},
   "source": [
    "### 1.2. Weak label priors\n",
    "\n",
    "In the following we analyze the sparsity of the weak label priors by showing the values of the prior weak label probabilities in increasing order."
   ]
  },
  {
   "cell_type": "code",
   "execution_count": 5,
   "metadata": {},
   "outputs": [
    {
     "data": {
      "image/png": "[encoded data removed]",
      "text/plain": [
       "<Figure size 432x288 with 1 Axes>"
      ]
     },
     "metadata": {
      "needs_background": "light"
     },
     "output_type": "display_data"
    },
    {
     "name": "stdout",
     "output_type": "stream",
     "text": [
      "The entropy is 2.705884512779906 (maximum is 2.772588722239781)\n"
     ]
    }
   ],
   "source": [
    "# True priors\n",
    "p = M @ eta\n",
    "h = - p @ np.log(p).T\n",
    "\n",
    "plt.plot(np.sort(p),'.')\n",
    "plt.ylim((0, plt.ylim()[1]))\n",
    "plt.xlabel('Sorted weak classes')\n",
    "plt.ylabel('Prior probability')\n",
    "plt.show()\n",
    "\n",
    "print(f'The entropy is {h} (maximum is {np.log(len(p))})')"
   ]
  },
  {
   "cell_type": "markdown",
   "metadata": {},
   "source": [
    "### 1.3. Dataset generation.\n",
    "\n",
    "In the following we will generate a dataset of labels and their corresponding weak labels"
   ]
  },
  {
   "cell_type": "code",
   "execution_count": 6,
   "metadata": {
    "collapsed": false,
    "jupyter": {
     "outputs_hidden": false
    }
   },
   "outputs": [
    {
     "name": "stdout",
     "output_type": "stream",
     "text": [
      "[ 5 14  9 ...  7  1  3]\n"
     ]
    }
   ],
   "source": [
    "# Generate true labels\n",
    "I = np.eye(C)\n",
    "iy = np.random.choice(np.arange(0, C), size=K, p=eta)\n",
    "y = I[iy]\n",
    "\n",
    "# Generate weak label indices\n",
    "z = WLM.generateWeak(iy)\n",
    "print(z)"
   ]
  },
  {
   "cell_type": "markdown",
   "metadata": {},
   "source": [
    "### 1.4. Learning from clean labels.\n",
    "\n",
    "In the supervised setting, ${\\bf y}$ is observed an the optimal sample based estimate of $\\boldsymbol{\\eta}$ (minimizing any Bregman divergence) based on the observed labels is the sample average"
   ]
  },
  {
   "cell_type": "code",
   "execution_count": 7,
   "metadata": {
    "collapsed": false,
    "jupyter": {
     "outputs_hidden": false
    }
   },
   "outputs": [
    {
     "name": "stdout",
     "output_type": "stream",
     "text": [
      "Supervised estimate: [0.57126 0.00879 0.28469 0.13526]\n",
      "Square error: 1.40314650877736e-06\n"
     ]
    }
   ],
   "source": [
    "# Probability estimation based on clean labels\n",
    "f = np.mean(y, axis=0)\n",
    "print(f\"Supervised estimate: {f}\")\n",
    "e2 = np.sum((f - eta)**2)\n",
    "print(f\"Square error: {e2}\")"
   ]
  },
  {
   "cell_type": "markdown",
   "metadata": {},
   "source": [
    "### 1.5. Learning from weak labels.\n",
    "\n",
    "There are many ways to estimate $\\boldsymbol{\\eta}$ from the weak labels. We consider here a representative sample of them:"
   ]
  },
  {
   "cell_type": "markdown",
   "metadata": {},
   "source": [
    "#### 1.5.1. Reconstruction Matrices\n",
    "\n",
    "In the following we compute the reconstrution matrices based on left-inverses, using the true weak label priors and estimations based on data"
   ]
  },
  {
   "cell_type": "code",
   "execution_count": 8,
   "metadata": {},
   "outputs": [],
   "source": [
    "# Compute different types of reconstruction matrices\n",
    "Y_pinv = wlw.virtual_label_matrix(M, p=None, convex=False)\n",
    "Y_conv = wlw.virtual_label_matrix(M, p=None, convex=True)\n",
    "Y_opt = wlw.virtual_label_matrix(M, p=p, convex=False)\n",
    "Y_opt_conv = wlw.virtual_label_matrix(M, p=p, convex=True)\n",
    "\n",
    "# Compute estimated priors\n",
    "z_count = Counter(z)\n",
    "p_est = np.array([z_count[x] for x in WLM.weak_classes])\n",
    "p_est = p_est / np.sum(p_est)\n",
    "# Project prior on the mixing matrix subspace\n",
    "p_est = M @ np.linalg.lstsq(M, p_est, rcond=None)[0]\n",
    "\n",
    "# Compute reconstruction matrices based on estimated priors\n",
    "Y_opt_est = wlw.virtual_label_matrix(M, p=p_est, convex=False)\n",
    "Y_opt_conv_est = wlw.virtual_label_matrix(M, p=p_est, convex=True)\n",
    "\n",
    "# Set\n",
    "eta2 = eta.T @ eta\n",
    "mse_pinv = (np.diag(Y_pinv.T @ Y_pinv) @ p - eta2)\n",
    "mse_conv = (np.diag(Y_conv.T @ Y_conv) @ p - eta2)\n",
    "mse_opt = (np.diag(Y_opt.T @ Y_opt) @ p - eta2)\n",
    "mse_opt_conv = (np.diag(Y_opt_conv.T @ Y_opt_conv) @ p - eta2)\n",
    "\n",
    "mse_opt_est = (np.diag(Y_opt_est.T @ Y_opt_est) @ p - eta2)\n",
    "mse_opt_conv_est = (np.diag(Y_opt_conv_est.T @ Y_opt_conv_est) @ p - eta2)\n"
   ]
  },
  {
   "cell_type": "markdown",
   "metadata": {},
   "source": [
    "In the following we visualize the MSE for each of the reconstruction matrices. The results may depend on different factors like the sample size, the true probability vector or the mixing matrix but, in general,\n",
    "\n",
    "   * The MSE of the optimized reconstruction matrices (i.e. those using the prior weak label probabilities) is significantly smaller than the other methods: the pseudoinverse (${\\bf M}_\\text{pinv}$) and the reconstruction proposed by Van Royen et al (${\\bf M}_\\text{pinv}$).\n",
    "   * The convexity constraint has a small impact."
   ]
  },
  {
   "cell_type": "code",
   "execution_count": 9,
   "metadata": {},
   "outputs": [
    {
     "data": {
      "image/png": "[encoded data removed]",
      "text/plain": [
       "<Figure size 432x288 with 1 Axes>"
      ]
     },
     "metadata": {
      "needs_background": "light"
     },
     "output_type": "display_data"
    }
   ],
   "source": [
    "mse_th = {'M-pinv': mse_pinv / K, 'M-conv': mse_conv / K, 'M-opt': mse_opt / K,\n",
    "          'M-opt-conv': mse_opt_conv / K, 'M-opt-est':  mse_opt_est / K,\n",
    "          'M-opt-conv-est': mse_opt_conv_est / K}\n",
    "\n",
    "plt.bar(mse_th.keys(), mse_th.values())\n",
    "plt.xticks(range(len(mse_th)), mse_th, rotation='15')\n",
    "plt.axis('tight')\n",
    "plt.ylabel('MSE')\n",
    "plt.show(block=False)"
   ]
  },
  {
   "cell_type": "markdown",
   "metadata": {},
   "source": [
    "#### 1.5.1. Averaging virtual labels\n",
    "\n",
    "If ${\\bf z}$ is a sample from distribution ${\\bf p}$, and ${\\bf V}$ is any left inverse of the mixing matrix (so that ${\\bf V}{\\bf M} = {\\bf I}$ then it can be shown that $\\mathbb{E}\\{{\\bf v}\\} = \\boldsymbol{\\eta}$. Therefore, the sample average of virtual labels is an umbiased estimate of $\\boldsymbol{\\eta}$."
   ]
  },
  {
   "cell_type": "code",
   "execution_count": 10,
   "metadata": {
    "collapsed": false,
    "jupyter": {
     "outputs_hidden": false
    }
   },
   "outputs": [
    {
     "name": "stdout",
     "output_type": "stream",
     "text": [
      "Computing virtual labels with method M-pinv\n",
      "Virtual labels are: [[ 0.14599979 -0.08776138 -0.86645937  1.68851718]\n",
      " [ 0.77319289  0.25573849 -0.76229663  0.53877742]\n",
      " [ 0.62769135 -0.42830015  1.01926688 -0.47632873]\n",
      " ...\n",
      " [-0.28255492  0.36502035 -0.23410936  1.30429715]\n",
      " [-0.89307205 -0.91757218  0.3977833   2.67252062]\n",
      " [-1.32627535  0.04102218 -1.10423774  3.41212625]]\n",
      "Virtual label estimate: [0.56403567 0.01361033 0.28052148 0.14057929]\n",
      "Square error: 0.00012247684003350494\n"
     ]
    }
   ],
   "source": [
    "print(f\"Computing virtual labels with method {vl_model}\")\n",
    "v = WLM.virtual_labels(z, vl_model, p=p)\n",
    "print(f\"Virtual labels are: {v}\")\n",
    "f_v = np.mean(v, axis=0)\n",
    "\n",
    "print(f\"Virtual label estimate: {f_v}\")\n",
    "e2 = np.sum((f_v - eta)**2)\n",
    "print(f\"Square error: {e2}\")"
   ]
  },
  {
   "cell_type": "markdown",
   "metadata": {},
   "source": [
    "The choice of ${\\bf V}$ is relevant. Different reconstruction matrices (i.e., left inverses of the mixing matrix) may have better behavior under finite samples."
   ]
  },
  {
   "cell_type": "markdown",
   "metadata": {},
   "source": [
    "#### 1.5.2. Maximum Likelihood Estimate\n",
    "\n",
    "The expected value of a virtual label vector can be shown to be equal to the minimizer of the expected log likelihood. This implies that, on average, the average of the virtual label vector and the ML estimate should be assymptotically equivalent. However, for a finite sample size, they can also lead to different results.\n",
    "\n",
    "The following function computes the ML estimate by means of the EM algorithm."
   ]
  },
  {
   "cell_type": "code",
   "execution_count": 11,
   "metadata": {
    "collapsed": false,
    "jupyter": {
     "outputs_hidden": false
    }
   },
   "outputs": [],
   "source": [
    "def computeML(iz, M, f0=None, max_iter=1e10, echo='off'):\n",
    "    \"\"\"\n",
    "    Compute the ML estimate of a probability vector based on weak labels in iz\n",
    "    and the mixing matrix M.\n",
    "    The estimation method is based on Expectation-Maximization.\n",
    "    \n",
    "    Parameters\n",
    "    ----------\n",
    "    iz       :Observed weak labels\n",
    "    M        :Mixing matrix\n",
    "    f0       :Initial value of the ML estimate.\n",
    "    max_iter :Maximum number of iterations.\n",
    "    echo     :If 'on', output messages are shown\n",
    "\n",
    "    Returns\n",
    "    -------\n",
    "    f_ml     :Maximum likelihood estimate\n",
    "    \"\"\"\n",
    "\n",
    "    # Initialize the estimate.\n",
    "    if f0 is None:\n",
    "        C = M.shape[1]   # No. of classes\n",
    "        f_ml = np.ones(C)/C\n",
    "    else:\n",
    "        f_ml = f0\n",
    "\n",
    "    # Recursive estimation\n",
    "    iterate = True\n",
    "    count = 0\n",
    "    while iterate:\n",
    "        fi = np.dot(np.diag(f_ml), M.T)[:,iz.astype(int)]\n",
    "        fi = fi / np.sum(fi, axis=0)\n",
    "        f_new = np.mean(fi, axis=1)\n",
    "        count += 1\n",
    "        iterate = np.any(f_new != f_ml) and count < max_iter\n",
    "        f_ml = np.copy(f_new)\n",
    "    \n",
    "    if echo=='on':\n",
    "        if count>= max_iter:\n",
    "            print(f\"Stopped before convergence after {max_iter} iterations\")\n",
    "        else:\n",
    "            print(f\"Converged in {count} iterations\")\n",
    "\n",
    "    return f_ml\n",
    "\n",
    "def computeNLL(iz, M, f):\n",
    "    \"\"\"\n",
    "    Compute the Log-Likelihood function for an estimate f.\n",
    "    \"\"\"\n",
    "    \n",
    "    I = np.eye(M.shape[0])\n",
    "    z = I[iz.astype(int)]\n",
    "    NLL = - np.dot(np.mean(z, axis=0), np.log(np.dot(M, f)))\n",
    "\n",
    "    return NLL"
   ]
  },
  {
   "cell_type": "markdown",
   "metadata": {},
   "source": [
    "We can verify that the EM steps monotonically decrease the NLL"
   ]
  },
  {
   "cell_type": "code",
   "execution_count": 12,
   "metadata": {
    "collapsed": false,
    "jupyter": {
     "outputs_hidden": false
    }
   },
   "outputs": [
    {
     "name": "stdout",
     "output_type": "stream",
     "text": [
      "Converged in 2476 iterations\n",
      "Iteration 199 out of 200   eta = [0.57061111 0.00837201 0.28556859 0.13544829]\n",
      "f_ml = [0.56386088 0.01542601 0.27894374 0.14176936]\n",
      "f_v = [0.56403567 0.01361033 0.28052148 0.14057929]\n"
     ]
    },
    {
     "data": {
      "image/png": "[encoded data removed]",
      "text/plain": [
       "<Figure size 432x288 with 1 Axes>"
      ]
     },
     "metadata": {
      "needs_background": "light"
     },
     "output_type": "display_data"
    },
    {
     "name": "stdout",
     "output_type": "stream",
     "text": [
      "The final estimate is [0.56386088 0.01542601 0.27894374 0.14176936]\n",
      "The true label is [0.57061111 0.00837201 0.28556859 0.13544829]\n"
     ]
    }
   ],
   "source": [
    "n_it = 200\n",
    "\n",
    "# Compute inverted index \n",
    "z2i = dict(zip(WLM.weak_classes, range(len(WLM.weak_classes))))\n",
    "\n",
    "# Transform (decimal) weak labels into their corresponding indices in dec_labels.\n",
    "iz = np.array([z2i[zi] for zi in z])\n",
    "\n",
    "# Compute weak label proportions\n",
    "I = np.eye(M.shape[0])\n",
    "B = I[iz]\n",
    "q = np.mean(B, axis=0)\n",
    "\n",
    "# Compute ML estimate based on iz and M\n",
    "f_lim = computeML(iz, M, f, max_iter=10000, echo='on')\n",
    "\n",
    "f = None\n",
    "NLL, MSE, KL, MSE_EM = [], [], [], []\n",
    "\n",
    "for i in range(n_it):\n",
    "    print(f\"\\rIteration {i} out of {n_it}   \", end=\"\")\n",
    "\n",
    "    # Apply a single iteration of EM (max_iter=1) to see the evolution\n",
    "    f_new = computeML(iz, M, f, max_iter=1)\n",
    "    \n",
    "    # If the EM has converged, we stop iterating\n",
    "    if f is not None and np.all(f_new == f):\n",
    "        break\n",
    "\n",
    "    # Update EM estimate.\n",
    "    f = np.copy(f_new)\n",
    "\n",
    "    # NLL.append(computeNLL(iz, M, f) + np.dot(q, np.log(q)))\n",
    "    NLL.append(computeNLL(iz, M, f) + q @ np.log(M @ f_lim))\n",
    "    MSE.append(np.sum((f - eta)**2))\n",
    "    KL.append(- eta @ np.log(f) + eta @ np.log(eta))\n",
    "    MSE_EM.append(np.sum((f - f_lim)**2))\n",
    "\n",
    "print(f\"eta = {eta}\")\n",
    "print(f\"f_ml = {f}\")\n",
    "print(f\"f_v = {f_v}\")\n",
    "its = range(len(NLL))\n",
    "plt.loglog(its, NLL, label= \"Normalized NLL\")\n",
    "plt.loglog(its, MSE_EM, label= \"MSE_EM\")\n",
    "plt.loglog(its, MSE, label= \"MSE\")\n",
    "plt.loglog(its, KL, label= \"KL divergence\")\n",
    "plt.legend(loc='best')\n",
    "plt.axis('tight')\n",
    "plt.xlabel('Iteration')\n",
    "# plt.ylim((1e-7, plt.ylim()[1]))\n",
    "plt.ylim((1e-7, max([max(MSE), max(KL), max(MSE_EM), max(NLL)])))\n",
    "plt.show()\n",
    "print(f\"The final estimate is {f}\")\n",
    "print(f\"The true label is {eta}\")\n"
   ]
  },
  {
   "cell_type": "markdown",
   "metadata": {},
   "source": [
    "In the figure above, we can expect that both the *Normalized NLL* and the *MSE_EM* converge to zero, because both measures are based on the comparison with the limit value. The curves are usefull to verify that the error measures decrease monotonically.\n",
    "\n",
    "The *MSE* and the *KL divergence*, which are computed with respect to the true probability vector, $\\boldsymbol{\\eta}$, do not usually converge to zero, because, due to the finite sample size, the EM iterations does not converge exactly to $\\boldsymbol{\\eta}$, but to a close value, ${\\bf f}_\\text{lim}$. Yoy may check that the limit values of these error measures are smaller when the sample size increases."
   ]
  },
  {
   "cell_type": "code",
   "execution_count": 13,
   "metadata": {
    "collapsed": false,
    "jupyter": {
     "outputs_hidden": false
    }
   },
   "outputs": [
    {
     "name": "stdout",
     "output_type": "stream",
     "text": [
      "Converged in 2554 iterations\n",
      "ML estimate: [0.56469459 0.01259485 0.28171642 0.14099414]\n",
      "Square error: 9.84331302316417e-05\n"
     ]
    }
   ],
   "source": [
    "f_ml = computeML(iz, M, max_iter=100000, echo='on')\n",
    "\n",
    "print(f\"ML estimate: {f_ml}\")\n",
    "e2 = np.sum((f_ml - eta)**2)\n",
    "print(f\"Square error: {e2}\")"
   ]
  },
  {
   "cell_type": "markdown",
   "metadata": {},
   "source": [
    "## 2. Statistical analysis of the MSE.\n",
    "\n",
    "We will compute all estimates multiple times in order to compare the distribution of the MSE.\n",
    "\n",
    "First, to make sure that the WLL estimate is working properly, we plot the convergence of the estimate with the number of iterations"
   ]
  },
  {
   "cell_type": "code",
   "execution_count": 14,
   "metadata": {
    "collapsed": false,
    "jupyter": {
     "outputs_hidden": false
    },
    "scrolled": true
   },
   "outputs": [
    {
     "name": "stdout",
     "output_type": "stream",
     "text": [
      " Simulation 100 out of 100"
     ]
    }
   ],
   "source": [
    "n_sim = 100\n",
    "mse = {'wll': []}\n",
    "K = 1000\n",
    "for n in range(n_sim):\n",
    " \n",
    "    if (n+1)/1*1 == n+1:\n",
    "        print(f'\\r Simulation {n+1} out of {n_sim}', end=\"\")\n",
    "    # Generate true labels\n",
    "    iy = np.random.choice(np.arange(0, C), size=K, p=eta)\n",
    "\n",
    "    # Generate weak label indices\n",
    "    z = WLM.generateWeak(iy)\n",
    "\n",
    "    # Estimation with virtual labels (M and dec_labels are not used if vl_model=='Mproper')\n",
    "    v = WLM.virtual_labels(z, vl_model, p=p)\n",
    "        \n",
    "    f_v = np.cumsum(v, axis=0) / np.arange(1, K+1)[:,np.newaxis]\n",
    "    mse_n = np.sum((f_v - eta)**2, axis=1)\n",
    "    mse['wll'].append(mse_n)    "
   ]
  },
  {
   "cell_type": "code",
   "execution_count": 15,
   "metadata": {
    "collapsed": false,
    "jupyter": {
     "outputs_hidden": false
    }
   },
   "outputs": [
    {
     "data": {
      "image/png": "[encoded data removed]",
      "text/plain": [
       "<Figure size 432x288 with 1 Axes>"
      ]
     },
     "metadata": {
      "needs_background": "light"
     },
     "output_type": "display_data"
    }
   ],
   "source": [
    "mse_mean = np.mean(mse['wll'], axis=0)\n",
    "d = mse['wll'] - mse_mean\n",
    "mse_std_u = np.sqrt(np.sum(d**2*(d >=0), axis=0)/np.sum((d >=0), axis=0))\n",
    "mse_std_d = np.sqrt(np.sum(d**2*(d <=0), axis=0)/np.sum((d <=0), axis=0))\n",
    "plt.fill_between(range(K), mse_mean - mse_std_d, mse_mean + mse_std_u,\n",
    "    alpha=0.2, edgecolor='#1B2ACC', facecolor='#089FFF',\n",
    "    linewidth=1, linestyle='solid', antialiased=True)\n",
    "plt.loglog(range(K), mse_mean)\n",
    "plt.axis('tight')\n",
    "plt.xlabel('Sample size')\n",
    "plt.ylabel('Average square error')\n",
    "plt.show()"
   ]
  },
  {
   "cell_type": "markdown",
   "metadata": {},
   "source": [
    "### 2.1. Supervision vs partial supervision\n",
    "\n",
    "In the following we test, for a fixed sample size, the estimation of $\\boldsymbol{\\eta}$ as the average of virtual labels, in comparison with a complete supervision (i.e., as the average of the true labels)."
   ]
  },
  {
   "cell_type": "code",
   "execution_count": 16,
   "metadata": {
    "collapsed": false,
    "jupyter": {
     "outputs_hidden": false
    }
   },
   "outputs": [
    {
     "name": "stdout",
     "output_type": "stream",
     "text": [
      " Simulation 100 out of 100['M-pinv', 'M-conv', 'M-opt-conv', 'M-opt']\n",
      "[0.0131910482583537, 0.01319105905314534, 0.012211569089787806, 0.0005715159280964805]\n"
     ]
    }
   ],
   "source": [
    "K = 1000\n",
    "n_sim = 100\n",
    "vl_models = ['M-pinv', 'M-conv', 'M-opt-conv', 'M-opt']\n",
    "tag_list = vl_models + ['wml', 'sup']\n",
    "# tag_list = ['sup', 'wml'] + vl_models\n",
    "mse = {x: [] for x in tag_list}\n",
    "mse2 = {x: [] for x in tag_list}\n",
    "\n",
    "I_C = np.eye(C)\n",
    "np.random.seed(3)\n",
    "\n",
    "Y_pinv = wlw.virtual_label_matrix(M, p=None, convex=False)\n",
    "Y_conv = wlw.virtual_label_matrix(M, p=None, convex=True)\n",
    "Y_opt = wlw.virtual_label_matrix(M, p=p, convex=False)\n",
    "Y_opt_conv = wlw.virtual_label_matrix(M, p=p, convex=True)\n",
    "Y_all = {'M-pinv': Y_pinv, 'M-conv': Y_conv, 'M-opt': Y_opt, 'M-opt-conv': Y_opt_conv}\n",
    "\n",
    "for n in range(n_sim):\n",
    " \n",
    "    if (n+1)/1*1 == n+1:\n",
    "        print(f'\\r Simulation {n+1} out of {n_sim}', end=\"\"),\n",
    "\n",
    "    # Generate true labels\n",
    "    iy = np.random.choice(np.arange(0, C), size=K, p=eta)\n",
    "    y = I_C[iy]\n",
    "\n",
    "    # Generate weak label indices\n",
    "    z = WLM.generateWeak(iy)\n",
    "    iz = np.array([z2i[zi] for zi in z])\n",
    "\n",
    "    # Supervised estimation\n",
    "    f = np.mean(y, axis=0)\n",
    "    mse['sup'].append(np.sum((f - eta)**2))\n",
    "\n",
    "    # Estimation with ML-EM\n",
    "    f_ml = computeML(iz, M, f0=None, max_iter=1000, echo='off')\n",
    "    mse['wml'].append(np.sum((f_ml - eta)**2))\n",
    "\n",
    "    p_reg = WLM.estimate_wl_priors(z)\n",
    "\n",
    "    # In some cases, cvxpy raises an error \"problem does not follow dcp rules\". To avoid this, \n",
    "    # regularizing by some small eps may help though it may distort the results\n",
    "    # eps = 0.005\n",
    "    # p_reg = (p_reg + eps) / np.sum(p_reg + eps)\n",
    "    \n",
    "    for vl_model in vl_models:\n",
    "        # Estimation with virtual labels\n",
    "        # v = WLM.virtual_labels(z, method=vl_model, M=M, p=p)\n",
    "\n",
    "        if vl_model == 'M-pinv':\n",
    "            v = WLM.virtual_labels_from_Y(z, Y_pinv)\n",
    "        elif vl_model == 'M-conv':\n",
    "            v = WLM.virtual_labels_from_Y(z, Y_conv)\n",
    "        elif vl_model == 'M-opt':\n",
    "            Y = wlw.virtual_label_matrix(M, p_reg, convex=False)\n",
    "            v = WLM.virtual_labels_from_Y(z, Y)\n",
    "        elif vl_model == 'M-opt-conv':\n",
    "            Y = wlw.virtual_label_matrix(M, p_reg, convex=True)\n",
    "            v = WLM.virtual_labels_from_Y(z, Y)\n",
    "\n",
    "        f_v = np.mean(v, axis=0)\n",
    "        mse[vl_model].append(np.sum((f_v - eta)**2))\n",
    "\n",
    "mse_emp = [np.mean(mse[x]) for x in tag_list]\n",
    "print(vl_models)\n",
    "print(mse_emp[2:])"
   ]
  },
  {
   "cell_type": "code",
   "execution_count": 17,
   "metadata": {},
   "outputs": [
    {
     "name": "stdout",
     "output_type": "stream",
     "text": [
      "Estimated weak label priors: [0.04125273 0.07851466 0.08593652 0.04817178 0.04497405 0.05719593\n",
      " 0.04313219 0.06941448 0.14929451 0.06121257 0.04850349 0.05346268\n",
      " 0.05139933 0.04121534 0.0578692  0.06845055]\n"
     ]
    }
   ],
   "source": [
    "print(f\"Estimated weak label priors: {p_reg}\")"
   ]
  },
  {
   "cell_type": "markdown",
   "metadata": {},
   "source": [
    "The following error plots shows the performance degradation caused by the use of weak labels. Under very weak supervision, there is a significant degradation."
   ]
  },
  {
   "cell_type": "code",
   "execution_count": 18,
   "metadata": {
    "collapsed": false,
    "jupyter": {
     "outputs_hidden": false
    }
   },
   "outputs": [
    {
     "data": {
      "image/png": "[encoded data removed]",
      "text/plain": [
       "<Figure size 432x288 with 1 Axes>"
      ]
     },
     "metadata": {
      "needs_background": "light"
     },
     "output_type": "display_data"
    }
   ],
   "source": [
    "for i, tag in enumerate(tag_list):\n",
    "    plt.scatter([i + 1]*n_sim, mse[tag], c=[i]*n_sim, s=10, cmap='copper')\n",
    "plt.xticks(range(1, 1 + len(tag_list)), tag_list, rotation='45')\n",
    "plt.axis('tight')\n",
    "plt.ylim((0, plt.ylim()[1]))\n",
    "plt.show(block=False)\n",
    "\n",
    "#for i, tag in enumerate(tag_list):\n",
    "#     plt.bar([i + 1]*n_sim, np.mean(mse[tag]))\n",
    "# plt.xticks(range(1, 1 + len(tag_list)), tag_list, rotation='45')\n",
    "# plt.axis('tight')\n",
    "# plt.ylim((0, plt.ylim()[1]))\n",
    "# plt.show(block=False)\n",
    "\n",
    "# plt.boxplot([mse[tag] for tag in tag_list])\n",
    "# plt.xticks(range(1, 1 + len(tag_list)), tag_list, rotation='45')\n",
    "# plt.show()"
   ]
  },
  {
   "cell_type": "code",
   "execution_count": 19,
   "metadata": {},
   "outputs": [
    {
     "name": "stdout",
     "output_type": "stream",
     "text": [
      "[0.013016669747904202, 0.013000034025068882, 0.011891404665545592, 0.011891404665452507, nan, nan]\n"
     ]
    },
    {
     "data": {
      "image/png": "[encoded data removed]",
      "text/plain": [
       "<Figure size 432x288 with 1 Axes>"
      ]
     },
     "metadata": {
      "needs_background": "light"
     },
     "output_type": "display_data"
    }
   ],
   "source": [
    "mse_emp = [np.mean(mse[x]) for x in tag_list]\n",
    "mse_th = {'M-pinv': mse_pinv / K, 'M-conv': mse_conv / K, 'M-opt': mse_opt / K,\n",
    "          'M-opt-conv': mse_opt_conv / K, 'M-opt-est':  mse_opt_est / K,\n",
    "          'M-opt-conv-est': mse_opt_conv_est / K}\n",
    "\n",
    "for x in tag_list:\n",
    "    if x not in mse_th:\n",
    "        mse_th[x] = np.nan\n",
    "mse_th2 = [mse_th[x] for x in tag_list ]\n",
    "print(mse_th2)\n",
    "\n",
    "x = np.arange(len(tag_list))  # the label locations\n",
    "width = 0.35  # the width of the bars\n",
    "\n",
    "fig, ax = plt.subplots()\n",
    "rects1 = ax.bar(x - width/2, mse_emp, width, label='Empirical')\n",
    "rects2 = ax.bar(x + width/2, mse_th2, width, label='Theoretical')\n",
    "\n",
    "# Add some text for labels, title and custom x-axis tick labels, etc.\n",
    "ax.set_ylabel('MSE')\n",
    "ax.set_xticks(x)\n",
    "ax.set_xticklabels(tag_list, rotation='10')\n",
    "ax.legend(loc='lower right')\n",
    "\n",
    "def autolabel(rects):\n",
    "    \"\"\"Attach a text label above each bar in *rects*, displaying its height.\"\"\"\n",
    "    for rect in rects:\n",
    "        height = rect.get_height()\n",
    "        ax.annotate('{:.5f}'.format(height),\n",
    "                    xy=(rect.get_x() + rect.get_width() / 2, height),\n",
    "                    xytext=(0, 3),  # 3 points vertical offset\n",
    "                    textcoords=\"offset points\", ha='center', va='bottom')\n",
    "\n",
    "#ax.set_ylim((0, 1.2 * max(np.max(mse_emp), np.max(mse_th2))))\n",
    "autolabel(rects1)\n",
    "autolabel(rects2)\n",
    "fig.tight_layout()\n",
    "plt.show()"
   ]
  },
  {
   "cell_type": "code",
   "execution_count": null,
   "metadata": {},
   "outputs": [],
   "source": []
  }
 ],
 "metadata": {
  "anaconda-cloud": {},
  "kernelspec": {
   "display_name": "Python 3",
   "language": "python",
   "name": "python3"
  },
  "language_info": {
   "codemirror_mode": {
    "name": "ipython",
    "version": 3
   },
   "file_extension": ".py",
   "mimetype": "text/x-python",
   "name": "python",
   "nbconvert_exporter": "python",
   "pygments_lexer": "ipython3",
   "version": "3.7.3"
  }
 },
 "nbformat": 4,
 "nbformat_minor": 4
}
