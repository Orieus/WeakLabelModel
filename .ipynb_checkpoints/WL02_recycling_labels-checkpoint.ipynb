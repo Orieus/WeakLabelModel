{
 "cells": [
  {
   "cell_type": "markdown",
   "metadata": {
    "slideshow": {
     "slide_type": "slide"
    }
   },
   "source": [
    "# Analyzing datasets combinations\n",
    "\n",
    "    Notebook version: 1.4 (Jan 04, 2021)\n",
    "\n",
    "    Author: Jesús Cid Sueiro (jcid@tsc.uc3m.es)"
   ]
  },
  {
   "cell_type": "markdown",
   "metadata": {
    "slideshow": {
     "slide_type": "notes"
    }
   },
   "source": [
    "    Changes: v.1.0 - First version\n",
    "             v.1.3 - Implements optimal reconstructions\n",
    "             v.1.4 - Adapted to the new version of wlweakener.py"
   ]
  },
  {
   "cell_type": "code",
   "execution_count": 1,
   "metadata": {
    "collapsed": false,
    "jupyter": {
     "outputs_hidden": false
    },
    "slideshow": {
     "slide_type": "slide"
    }
   },
   "outputs": [],
   "source": [
    "# To visualize plots in the notebook\n",
    "%matplotlib inline \n",
    "import matplotlib.pyplot as plt\n",
    "\n",
    "# Import some libraries that will be necessary for working with data\n",
    "import numpy as np\n",
    "from collections import Counter\n",
    "# from scipy import spatial\n",
    "# from sklearn import neighbors, datasets\n",
    "\n",
    "# Local imports\n",
    "import wlc.WLweakener as wlw\n"
   ]
  },
  {
   "cell_type": "markdown",
   "metadata": {
    "slideshow": {
     "slide_type": "slide"
    }
   },
   "source": [
    "\n",
    "## 1. Introduction.\n",
    "\n",
    "In this notebook we analyze the behavior of sample based estimates of a $C$-dimensional probability vector $\\boldsymbol{\\eta}$ from binary vector instances.\n",
    "\n",
    "The main goal is to compare the behavior of a \"supervised\" estimate, based on a set of labels $\\{{\\bf y}_k, k=0,\\ldots, K-1\\}$ generated from $\\boldsymbol{\\eta}$, and estimates based on weak labels, $\\{{\\bf b}_k, k=0,\\ldots, K-1\\}$, generated from some related distribution ${\\bf q} = {\\bf M}\\boldsymbol{\\eta}$, where ${\\bf M}$ is called a mixing matrix and contains conditional probabilities.\n",
    "\n",
    "To do so, we will generate a dataset of labels drawn from $\\boldsymbol{\\eta}$, and one or more datasets of weak labels drawn from ${\\bf q}$.\n",
    "\n",
    "First we define some configurable parameters:"
   ]
  },
  {
   "cell_type": "code",
   "execution_count": 2,
   "metadata": {
    "collapsed": false,
    "jupyter": {
     "outputs_hidden": false
    }
   },
   "outputs": [
    {
     "name": "stdout",
     "output_type": "stream",
     "text": [
      "[0.01359962 0.31497531 0.53988284 0.09209101 0.03945123]\n"
     ]
    }
   ],
   "source": [
    "# CONFIGURABLE PARAMETERS FOR THE WHOLE NOTEBOOK\n",
    "K = 10000                        # Sample size\n",
    "eta = np.array([0.5, 0.2, 0.3])   # True probability vector\n",
    "eta = np.array([0.35, 0.3, 0.2, 0.1, 0.03, 0.02])   # True probability vector\n",
    "\n",
    "# Instead of defining eta at hand, you can generate it at random:\n",
    "C = 5\n",
    "alpha = 0.5\n",
    "eta = np.random.dirichlet(alpha * np.ones(C))\n",
    "print(eta)\n",
    "\n",
    "# Weak Label model. Used to generate the data.\n",
    "# Available options are: quasi_IPL, noisy, random_noise ...\n",
    "wl_model = 'random_weak'   # 'quasi-IPL'    # 'random_noise'   # 'noisy', 'quasi_IPL'\n",
    "\n",
    "# Parameters of the weak label model\n",
    "beta = 0.4\n",
    "\n",
    "# Virtual label model\n",
    "# This is the model used to estimate the virtual label matrix\n",
    "# Available options are: binary, quasi_IPL, M-pinv, M-conv, M-opt, M-opt_conv, ...\n",
    "vl_model = 'M-pinv'\n",
    "\n",
    "# Seed\n",
    "np.random.seed(5)"
   ]
  },
  {
   "cell_type": "markdown",
   "metadata": {},
   "source": [
    "### 1.1. Mixing Matrix.\n",
    "\n",
    "Based on the selected weak label model, we generate and visualize the corresponding mixing matrix."
   ]
  },
  {
   "cell_type": "code",
   "execution_count": 3,
   "metadata": {
    "collapsed": false,
    "jupyter": {
     "outputs_hidden": false
    }
   },
   "outputs": [
    {
     "name": "stdout",
     "output_type": "stream",
     "text": [
      "[ 0  1  2  3  4  5  6  7  8  9 10 11 12 13 14 15 16 17 18 19 20 21 22 23\n",
      " 24 25 26 27 28 29 30 31]\n"
     ]
    },
    {
     "data": {
      "image/png": "[encoded data removed]",
      "text/plain": [
       "<Figure size 432x432 with 2 Axes>"
      ]
     },
     "metadata": {
      "needs_background": "light"
     },
     "output_type": "display_data"
    }
   ],
   "source": [
    "# Number of classes\n",
    "C = len(eta)   \n",
    "\n",
    "# Mixing matrix\n",
    "WLM = wlw.WLmodel(C, model_class=wl_model)\n",
    "                       \n",
    "# M = WLM.computeM(C, beta=beta, method=wl_model)\n",
    "M = WLM.generateM(alpha=0.96, beta=10)\n",
    "# M = 0.5 * np.eye(C) + 0.5 * M\n",
    "\n",
    "# Number of weak categories\n",
    "n_weak = M.shape[0]\n",
    "\n",
    "# if wl_model == 'quasi-IPL':\n",
    "#     dec_labels = np.arange(0, 2**C)\n",
    "# elif wl_model in ['noisy', 'random_noise']:\n",
    "#     dec_labels = 2**np.arange(C-1, -1, -1)\n",
    "# else:\n",
    "#     raise ValueError(\"dec_labels not implemented for the given wl_model\")\n",
    "\n",
    "# Remove zero rows\n",
    "flag = np.nonzero(np.sum(M, axis=1))[0]\n",
    "# M = M[flag, :]   # This is to remove zero rows, which are not relevant\n",
    "# dec_labels = dec_labels[flag]   # This is to remove zero rows, which are not relevant\n",
    "print(flag)\n",
    "\n",
    "# Show:\n",
    "if n_weak < 5:\n",
    "    print(\"Mixing matrix:\")\n",
    "    print(M)\n",
    "    print(f\"Corresponding to weak label indices {dec_labels}\")\n",
    "\n",
    "plt.figure(figsize=(6, 6))\n",
    "plt.imshow(M, interpolation='nearest', cmap=\"gray\", clim=(0.0, np.max(M))) \n",
    "plt.colorbar()\n",
    "plt.title('Mixing Matrix')\n",
    "plt.xlabel('True label')\n",
    "plt.ylabel('Weak label')\n",
    "plt.xticks([], [])\n",
    "plt.yticks([], [])\n",
    "plt.show()"
   ]
  },
  {
   "cell_type": "code",
   "execution_count": 4,
   "metadata": {},
   "outputs": [
    {
     "data": {
      "text/plain": [
       "array([[0.02717706, 0.05004862, 0.02520042, 0.02338775, 0.08025784],\n",
       "       [0.06067328, 0.02261389, 0.01246734, 0.07430023, 0.03097601],\n",
       "       [0.02789726, 0.03514635, 0.01981989, 0.03059365, 0.02988799],\n",
       "       [0.02226537, 0.03117018, 0.05761893, 0.04285231, 0.01847131]])"
      ]
     },
     "execution_count": 4,
     "metadata": {},
     "output_type": "execute_result"
    }
   ],
   "source": [
    "M[1:5,:]"
   ]
  },
  {
   "cell_type": "markdown",
   "metadata": {},
   "source": [
    "### 1.2. Weak label priors\n",
    "\n",
    "In the following we analyze the sparsity of the weak label priors by showing the values of the prior weak label probabilities in increasing order."
   ]
  },
  {
   "cell_type": "code",
   "execution_count": 5,
   "metadata": {},
   "outputs": [
    {
     "data": {
      "image/png": "[encoded data removed]",
      "text/plain": [
       "<Figure size 432x288 with 1 Axes>"
      ]
     },
     "metadata": {
      "needs_background": "light"
     },
     "output_type": "display_data"
    },
    {
     "name": "stdout",
     "output_type": "stream",
     "text": [
      "The entropy is 3.4378973839271714 (maximum is 3.4657359027997265)\n"
     ]
    }
   ],
   "source": [
    "# True priors\n",
    "p = M @ eta\n",
    "h = - p @ np.log(p).T\n",
    "\n",
    "plt.plot(np.sort(p),'.')\n",
    "plt.ylim((0, plt.ylim()[1]))\n",
    "plt.xlabel('Sorted weak labels')\n",
    "plt.ylabel('Prior probability')\n",
    "plt.show()\n",
    "\n",
    "print(f'The entropy is {h} (maximum is {np.log(len(p))})')"
   ]
  },
  {
   "cell_type": "markdown",
   "metadata": {},
   "source": [
    "### 1.3. Dataset generation.\n",
    "\n",
    "In the following we will generate a dataset of labels and their corresponding weak labels"
   ]
  },
  {
   "cell_type": "code",
   "execution_count": 6,
   "metadata": {
    "collapsed": false,
    "jupyter": {
     "outputs_hidden": false
    }
   },
   "outputs": [
    {
     "name": "stdout",
     "output_type": "stream",
     "text": [
      "[ 6 14 14 ... 15  0 25]\n"
     ]
    }
   ],
   "source": [
    "# Generate true labels\n",
    "I = np.eye(C)\n",
    "iy = np.random.choice(np.arange(0, C), size=K, p=eta)\n",
    "y = I[iy]\n",
    "\n",
    "# Generate weak label indices\n",
    "z = WLM.generateWeak(iy)\n",
    "print(z)"
   ]
  },
  {
   "cell_type": "markdown",
   "metadata": {},
   "source": [
    "### 1.4. Supervised, sample based estimation.\n",
    "\n",
    "In the supervised setting, ${\\bf y}$ is observed an the optimal sample based estimate of $\\boldsymbol{\\eta}$ (minimizing any Bregman divergence) based on the observed labels is the sample average"
   ]
  },
  {
   "cell_type": "code",
   "execution_count": 7,
   "metadata": {
    "collapsed": false,
    "jupyter": {
     "outputs_hidden": false
    }
   },
   "outputs": [
    {
     "name": "stdout",
     "output_type": "stream",
     "text": [
      "Supervised estimate: [0.0123 0.3102 0.5468 0.0904 0.0403]\n",
      "Square error: 7.591964069432457e-05\n"
     ]
    }
   ],
   "source": [
    "f = np.mean(y, axis=0)\n",
    "print(f\"Supervised estimate: {f}\")\n",
    "e2 = np.sum((f - eta)**2)\n",
    "print(f\"Square error: {e2}\")"
   ]
  },
  {
   "cell_type": "markdown",
   "metadata": {},
   "source": [
    "### 1.5. Learning from weak labels.\n",
    "\n",
    "There are many ways to estimate $\\boldsymbol{\\eta}$ from the weak labels. We consider here a representative sample of them:"
   ]
  },
  {
   "cell_type": "markdown",
   "metadata": {},
   "source": [
    "#### 1.5.1. Reconstruction Matrices\n",
    "\n",
    "In the following we compute the reconstrution matrices based on left-inverses, using the true weak label priors and estimations based on data"
   ]
  },
  {
   "cell_type": "code",
   "execution_count": 8,
   "metadata": {},
   "outputs": [],
   "source": [
    "# Compute reconstruction matrices\n",
    "Y_pinv = wlw.virtual_label_matrix(M, p=None, convex=False)\n",
    "Y_conv = wlw.virtual_label_matrix(M, p=None, convex=True)\n",
    "Y_opt = wlw.virtual_label_matrix(M, p=p, convex=False)\n",
    "Y_opt_conv = wlw.virtual_label_matrix(M, p=p, convex=True)\n",
    "\n",
    "# Compute estimated priors\n",
    "z_count = Counter(z)\n",
    "p_est = np.array([z_count[x] for x in WLM.weak_classes])\n",
    "p_est = p_est / np.sum(p_est)\n",
    "\n",
    "# Compute reconstruction matrices\n",
    "Y_opt_est = wlw.virtual_label_matrix(M, p=p_est, convex=False)\n",
    "Y_opt_conv_est = wlw.virtual_label_matrix(M, p=p_est, convex=True)\n",
    "\n",
    "# Set\n",
    "eta2 = eta.T @ eta\n",
    "mse_pinv = (np.diag(Y_pinv.T @ Y_pinv) @ p - eta2)\n",
    "mse_conv = (np.diag(Y_conv.T @ Y_conv) @ p - eta2)\n",
    "mse_opt = (np.diag(Y_opt.T @ Y_opt) @ p - eta2)\n",
    "mse_opt_conv = (np.diag(Y_opt_conv.T @ Y_opt_conv) @ p - eta2)\n",
    "\n",
    "mse_opt_est = (np.diag(Y_opt_est.T @ Y_opt_est) @ p - eta2)\n",
    "mse_opt_conv_est = (np.diag(Y_opt_conv_est.T @ Y_opt_conv_est) @ p - eta2)\n"
   ]
  },
  {
   "cell_type": "code",
   "execution_count": 9,
   "metadata": {},
   "outputs": [
    {
     "data": {
      "image/png": "[encoded data removed]",
      "text/plain": [
       "<Figure size 432x288 with 1 Axes>"
      ]
     },
     "metadata": {
      "needs_background": "light"
     },
     "output_type": "display_data"
    }
   ],
   "source": [
    "mse_th = {'M-pinv': mse_pinv / K, 'M-conv': mse_conv / K, 'M-opt': mse_opt / K,\n",
    "          'M-opt-conv': mse_opt_conv / K, 'M-opt-est':  mse_opt_est / K,\n",
    "          'M-opt-conv-est': mse_opt_conv_est / K}\n",
    "\n",
    "plt.bar(mse_th.keys(), mse_th.values())\n",
    "plt.xticks(range(len(mse_th)), mse_th, rotation='15')\n",
    "plt.axis('tight')\n",
    "plt.show(block=False)"
   ]
  },
  {
   "cell_type": "markdown",
   "metadata": {},
   "source": [
    "#### 1.5.1. Averaging virtual labels\n",
    "\n",
    "If ${\\bf z}$ is a sample from distribution ${\\bf q}$, and ${\\bf V}$ is any left inverse of the mixing matrix (so that ${\\bf V}{\\bf M} = {\\bf I}$ then it can be shown that $\\mathbb{E}\\{{\\bf v}\\} = \\boldsymbol{\\eta}$. Therefore, the sample average of virtual labels is an umbiased estimate of $\\boldsymbol{\\eta}$."
   ]
  },
  {
   "cell_type": "code",
   "execution_count": 10,
   "metadata": {
    "collapsed": false,
    "jupyter": {
     "outputs_hidden": false
    }
   },
   "outputs": [
    {
     "name": "stdout",
     "output_type": "stream",
     "text": [
      "Computing virtual labels with method M-pinv\n",
      "Virtual labels are: [[-1.62433538  2.87508903 -0.48746364  0.82023299 -0.68029452]\n",
      " [ 0.13883873  1.68046097  1.97980489 -0.9449609  -1.46674749]\n",
      " [ 0.13883873  1.68046097  1.97980489 -0.9449609  -1.46674749]\n",
      " ...\n",
      " [-0.21256366 -2.53886032  0.92043006  0.58435819  2.34524639]\n",
      " [ 0.56207676 -1.31430863  0.23935609  1.05350203  0.40957565]\n",
      " [ 0.59670066 -0.70893974  1.1847627  -0.94506915  0.62563255]]\n",
      "Virtual label estimate: [-0.00253038  0.32505281  0.59715109  0.06741008  0.01372313]\n",
      "Square error: 0.004912468393106539\n"
     ]
    }
   ],
   "source": [
    "print(f\"Computing virtual labels with method {vl_model}\")\n",
    "v = WLM.virtual_labels(z, vl_model, p=p)\n",
    "print(f\"Virtual labels are: {v}\")\n",
    "f_v = np.mean(v, axis=0)\n",
    "\n",
    "print(f\"Virtual label estimate: {f_v}\")\n",
    "e2 = np.sum((f_v - eta)**2)\n",
    "print(f\"Square error: {e2}\")"
   ]
  },
  {
   "cell_type": "markdown",
   "metadata": {},
   "source": [
    "The choice of ${\\bf V}$ is relevant. Different left inverses of the mixing matrix may have better behavior under finite samples."
   ]
  },
  {
   "cell_type": "markdown",
   "metadata": {},
   "source": [
    "#### 1.5.2. Maximum Likelihood Estimate\n",
    "\n",
    "The expected value of a virtual label vector can be shown to be equal to the minimizer of the expected log likelihood. This implies that, on average, the average of the virtual label vector and the ML estimate should be assymptotically equivalent. However, for a finite sample size, they can also lead to different results.\n",
    "\n",
    "The following function computes the ML estimate by means of the EM algorithm."
   ]
  },
  {
   "cell_type": "code",
   "execution_count": 11,
   "metadata": {
    "collapsed": false,
    "jupyter": {
     "outputs_hidden": false
    }
   },
   "outputs": [],
   "source": [
    "def computeML(iz, M, f0=None, max_iter=1e10, echo='off'):\n",
    "    \"\"\"\n",
    "    Compute the ML estimate of a probability vector based on weak labels in iz\n",
    "    and the mixing matrix M.\n",
    "    The estimation method is based on Expectation-Maximization.\n",
    "    \n",
    "    Parameters\n",
    "    ----------\n",
    "    iz       :Observed weak labels\n",
    "    M        :Mixing matrix\n",
    "    f0       :Initial value of the ML estimate.\n",
    "    max_iter :Maximum number of iterations.\n",
    "    echo     :If 'on', output messages are shown\n",
    "\n",
    "    Returns\n",
    "    -------\n",
    "    f_ml     :Maximum likelihood estimate\n",
    "    \"\"\"\n",
    "\n",
    "    # Initialize the estimate.\n",
    "    if f0 is None:\n",
    "        C = M.shape[1]   # No. of classes\n",
    "        f_ml = np.ones(C)/C\n",
    "    else:\n",
    "        f_ml = f0\n",
    "\n",
    "    # Recursive estimation\n",
    "    iterate = True\n",
    "    count = 0\n",
    "    while iterate:\n",
    "        fi = np.dot(np.diag(f_ml), M.T)[:,iz.astype(int)]\n",
    "        fi = fi / np.sum(fi, axis=0)\n",
    "        f_new = np.mean(fi, axis=1)\n",
    "        count += 1\n",
    "        iterate = np.any(f_new != f_ml) and count < max_iter\n",
    "        f_ml = np.copy(f_new)\n",
    "    \n",
    "    if echo=='on':\n",
    "        if count>= max_iter:\n",
    "            print(f\"Stopped before convergence after {max_iter} iterations\")\n",
    "        else:\n",
    "            print(f\"Converged in {count} iterations\")\n",
    "\n",
    "    return f_ml\n",
    "\n",
    "def computeNLL(iz, M, f):\n",
    "    \"\"\"\n",
    "    Compute the Log-Likelihood function for an estimate f.\n",
    "    \"\"\"\n",
    "    \n",
    "    I = np.eye(M.shape[0])\n",
    "    z = I[iz.astype(int)]\n",
    "    NLL = - np.dot(np.mean(z, axis=0), np.log(np.dot(M, f)))\n",
    "\n",
    "    return NLL"
   ]
  },
  {
   "cell_type": "markdown",
   "metadata": {},
   "source": [
    "We can verify that the EM steps monotonically decrease the NLL"
   ]
  },
  {
   "cell_type": "code",
   "execution_count": 12,
   "metadata": {
    "collapsed": false,
    "jupyter": {
     "outputs_hidden": false
    }
   },
   "outputs": [
    {
     "name": "stdout",
     "output_type": "stream",
     "text": [
      "Stopped before convergence after 10000 iterations\n",
      "Iteration 999 out of 1000   eta = [0.01359962 0.31497531 0.53988284 0.09209101 0.03945123]\n",
      "f_ml = [0.00512157 0.31148616 0.60805267 0.06185386 0.01348574]\n",
      "f_v = [-0.00253038  0.32505281  0.59715109  0.06741008  0.01372313]\n"
     ]
    },
    {
     "data": {
      "image/png": "[encoded data removed]",
      "text/plain": [
       "<Figure size 432x288 with 1 Axes>"
      ]
     },
     "metadata": {
      "needs_background": "light"
     },
     "output_type": "display_data"
    },
    {
     "name": "stdout",
     "output_type": "stream",
     "text": [
      "The final estimate is [0.00512157 0.31148616 0.60805267 0.06185386 0.01348574]\n",
      "The true label is [0.01359962 0.31497531 0.53988284 0.09209101 0.03945123]\n"
     ]
    }
   ],
   "source": [
    "n_it = 1000\n",
    "\n",
    "# Compute inverted index \n",
    "z2i = dict(zip(WLM.weak_classes, range(len(WLM.weak_classes))))\n",
    "\n",
    "# Transform (decimal) weak labels into their corresponding indices in dec_labels.\n",
    "iz = np.array([z2i[zi] for zi in z])\n",
    "\n",
    "# Compute weak label proportions\n",
    "I = np.eye(M.shape[0])\n",
    "B = I[iz]\n",
    "q = np.mean(B, axis=0)\n",
    "\n",
    "# Compute ML estimate based on iz and M\n",
    "f_lim = computeML(iz, M, f, max_iter=10000, echo='on')\n",
    "\n",
    "f = None\n",
    "NLL, MSE, KL, MSE_EM = [], [], [], []\n",
    "\n",
    "for i in range(n_it):\n",
    "    print(f\"\\rIteration {i} out of {n_it}   \", end=\"\")\n",
    "\n",
    "    # Apply a single iteration of EM (max_iter=1) to see the evolution\n",
    "    f_new = computeML(iz, M, f, max_iter=1)\n",
    "    \n",
    "    # If the EM has converged, we stop iterating\n",
    "    if f is not None and np.all(f_new == f):\n",
    "        break\n",
    "\n",
    "    # Update EM estimate.\n",
    "    f = np.copy(f_new)\n",
    "\n",
    "    # NLL.append(computeNLL(iz, M, f) + np.dot(q, np.log(q)))\n",
    "    NLL.append(computeNLL(iz, M, f) + q @ np.log(M @ f_lim))\n",
    "    MSE.append(np.sum((f - eta)**2))\n",
    "    KL.append(- eta @ np.log(f) + eta @ np.log(eta))\n",
    "    MSE_EM.append(np.sum((f - f_lim)**2))\n",
    "\n",
    "print(f\"eta = {eta}\")\n",
    "print(f\"f_ml = {f}\")\n",
    "print(f\"f_v = {f_v}\")\n",
    "its = range(len(NLL))\n",
    "plt.loglog(its, NLL, label= \"Normalized NLL\")\n",
    "plt.loglog(its, MSE_EM, label= \"MSE_EM\")\n",
    "plt.loglog(its, MSE, label= \"MSE\")\n",
    "plt.loglog(its, KL, label= \"KL divergence\")\n",
    "plt.legend(loc='best')\n",
    "plt.axis('tight')\n",
    "plt.xlabel('Iteration')\n",
    "# plt.ylim((1e-7, plt.ylim()[1]))\n",
    "plt.ylim((1e-7, max([max(MSE), max(KL), max(MSE_EM), max(NLL)])))\n",
    "plt.show()\n",
    "print(f\"The final estimate is {f}\")\n",
    "print(f\"The true label is {eta}\")\n"
   ]
  },
  {
   "cell_type": "markdown",
   "metadata": {},
   "source": [
    "In the figure above, we can expect that both the *Normalized NLL* and the *MSE_EM* converge to zero, because both measures are based on the comparison with the limit value. The curves are usefull to verify that the error measures decrease monotonically.\n",
    "\n",
    "The *MSE* and the *KL divergence*, which are computed with respect to the true probability vector, $\\boldsymbol{\\eta}$, do not usually converge to zero, because, due to the finite sample size, the EM iterations does not converge exactly to $\\boldsymbol{\\eta}$, but to a close value, ${\\bf f}_\\text{lim}$. Yoy may check that the limit values of these error measures are smaller when the sample size increases."
   ]
  },
  {
   "cell_type": "code",
   "execution_count": 13,
   "metadata": {
    "collapsed": false,
    "jupyter": {
     "outputs_hidden": false
    }
   },
   "outputs": [
    {
     "name": "stdout",
     "output_type": "stream",
     "text": [
      "Stopped before convergence after 1000 iterations\n",
      "ML estimate: [0.00512157 0.31148616 0.60805267 0.06185386 0.01348574]\n",
      "Square error: 0.006319669112186595\n"
     ]
    }
   ],
   "source": [
    "f_ml = computeML(iz, M, max_iter=1000, echo='on')\n",
    "\n",
    "print(f\"ML estimate: {f_ml}\")\n",
    "e2 = np.sum((f_ml - eta)**2)\n",
    "print(f\"Square error: {e2}\")"
   ]
  },
  {
   "cell_type": "markdown",
   "metadata": {},
   "source": [
    "## 2. Combination of datasets\n",
    "\n",
    "In the following experiments we explore the combination of a fully labeled dataset with a weakly labeled dataset. We show that the beharior of the estimate based on virtual label depends on the choice of the virtual label vector.\n",
    "\n",
    "The experiment demonstrates that, though different virtual label matrices can be asymptotically equivalent for the estimation of the probability vector, they show a different behavior under finite samples. \n",
    "\n",
    "### 2.1. Weighting samples\n",
    "\n",
    "In the following experiments we explore virtual matrices ${\\bf V}$ which are a combination of virtual matrices from the original datasets, i.e. they have the form ${\\bf V} = (w{\\bf V}_0, (1-w){\\bf V}_1)$ where ${\\bf V}_0$ and ${\\bf V}_1$ are virtual matrices for the original datasets. We show that the empirical mse depends on $w$, and there is an optimal choice for $w$.\n",
    "\n",
    "Note that the experiment does not explore all posible virtual matrices (i.e. all left inverses of the mixing matrix), but only those that are a composition of two fixed virtual matrices."
   ]
  },
  {
   "cell_type": "code",
   "execution_count": 14,
   "metadata": {
    "collapsed": false,
    "jupyter": {
     "outputs_hidden": false
    }
   },
   "outputs": [
    {
     "name": "stdout",
     "output_type": "stream",
     "text": [
      "100"
     ]
    },
    {
     "data": {
      "image/png": "[encoded data removed]",
      "text/plain": [
       "<Figure size 432x288 with 1 Axes>"
      ]
     },
     "metadata": {
      "needs_background": "light"
     },
     "output_type": "display_data"
    },
    {
     "data": {
      "image/png": "[encoded data removed]",
      "text/plain": [
       "<Figure size 432x288 with 1 Axes>"
      ]
     },
     "metadata": {
      "needs_background": "light"
     },
     "output_type": "display_data"
    }
   ],
   "source": [
    "n_sim = 100\n",
    "K = 50\n",
    "\n",
    "# Number of classes\n",
    "C = len(eta)   \n",
    "I_C = np.eye(C)\n",
    "\n",
    "# Mixing matrix\n",
    "wl_model = 'quasi-IPL'\n",
    "WLM = wlw.WLmodel(C, model_class=wl_model)\n",
    "M = WLM.computeM(C, beta=beta, method=wl_model)\n",
    "\n",
    "mse = []\n",
    "for n in range(n_sim):\n",
    "\n",
    "    if (n+1)/1*1 == n+1:\n",
    "        print(f\"\\r{n+1}\", end=\"\")\n",
    "\n",
    "    # Generate fully labeled dataset\n",
    "    iy = np.random.choice(np.arange(0, C), size=K, p=eta)\n",
    "    y = I_C[iy]\n",
    "\n",
    "    # Generate weakly labeled dataset\n",
    "    iy = np.random.choice(np.arange(0, C), size=K, p=eta)\n",
    "    z = WLM.generateWeak(iy)\n",
    "\n",
    "    # Supervised estimation\n",
    "    f = np.mean(y, axis=0)\n",
    "\n",
    "    # Estimation with virtual labels (M and dec_labels are not used if vl_model=='Mproper')\n",
    "    v = WLM.virtual_labels(z, method=vl_model)\n",
    "    v = WLM.virtual_labels(z, method=vl_model)\n",
    "    \n",
    "    f_v = np.mean(v, axis=0)\n",
    "    \n",
    "    # Combination of virtual labels. \n",
    "    # Al values of w provide consistent virtual matrices. However, the msw for a finite sample depends on w.\n",
    "    w = np.arange(0, 1, 0.001)[:, np.newaxis]\n",
    "    f_est = f * w + f_v * (1 - w)\n",
    "    mse_n = np.sum((f_est - eta)**2, axis=1)\n",
    "    mse.append(mse_n)\n",
    "\n",
    "plt.plot(w.flatten(), np.array(mse).T)\n",
    "plt.xlabel('w')\n",
    "plt.ylabel('mse')\n",
    "plt.xlim([0, 1])\n",
    "plt.show()\n",
    "\n",
    "mse_mean =  np.mean(np.array(mse), axis=0)\n",
    "mse_std = np.std(np.array(mse), axis=0)\n",
    "plt.plot(w.flatten(), mse_mean)\n",
    "plt.fill_between(w.flatten(), mse_mean - mse_std, mse_mean + mse_std,\n",
    "    alpha=0.2, edgecolor='#1B2ACC', facecolor='#089FFF',\n",
    "    linewidth=4, linestyle='dashdot', antialiased=True)\n",
    "plt.xlabel('w')\n",
    "plt.ylabel('mse')\n",
    "plt.xlim([0, 1])\n",
    "plt.show()\n"
   ]
  },
  {
   "cell_type": "markdown",
   "metadata": {},
   "source": [
    "### 2.2. Optimal weight versus noise level\n",
    "\n",
    "The following experiment shows that the relation between the noise level and the optimal weight might be non-trivial."
   ]
  },
  {
   "cell_type": "code",
   "execution_count": 15,
   "metadata": {
    "collapsed": false,
    "jupyter": {
     "outputs_hidden": false
    }
   },
   "outputs": [
    {
     "name": "stdout",
     "output_type": "stream",
     "text": [
      "Beta = 0.0"
     ]
    },
    {
     "name": "stderr",
     "output_type": "stream",
     "text": [
      "/Users/jcid/anaconda3/lib/python3.7/site-packages/ipykernel_launcher.py:67: RuntimeWarning: divide by zero encountered in log\n"
     ]
    },
    {
     "name": "stdout",
     "output_type": "stream",
     "text": [
      "Beta = 0.1"
     ]
    },
    {
     "name": "stderr",
     "output_type": "stream",
     "text": [
      "/Users/jcid/anaconda3/lib/python3.7/site-packages/ipykernel_launcher.py:67: RuntimeWarning: invalid value encountered in log\n"
     ]
    },
    {
     "name": "stdout",
     "output_type": "stream",
     "text": [
      "Beta = 0.90000000000000014"
     ]
    }
   ],
   "source": [
    "Ktrue = 200       # Number of clean labels\n",
    "Kweak = 200       # Number of weak labels       \n",
    "qTrue = float(Ktrue)/(Ktrue + Kweak)\n",
    "qWeak = float(Kweak)/(Ktrue + Kweak)\n",
    "\n",
    "n_betas = 10\n",
    "beta_set = np.linspace(0, 1-1.0/n_betas, n_betas)\n",
    "\n",
    "\n",
    "n_sim = 200      # Number of experiments for each value of eta.\n",
    "wmse = []\n",
    "wkld = []\n",
    "w = np.linspace(0, 1, 101)[:, np.newaxis]/ qTrue\n",
    "\n",
    "for beta in beta_set:\n",
    "\n",
    "    print(f\"\\rBeta = {beta}\", end=\"\")\n",
    "    \n",
    "    # Mixing matrix\n",
    "    M_b = WLM.computeM(beta=beta, method=wl_model)\n",
    "    # if wl_model == 'quasi_IPL':\n",
    "    #     dec_labels_b = np.arange(0, 2**C)\n",
    "    # elif wl_model in ['noisy', 'random_noise']:\n",
    "    #     dec_labels_b = 2**np.arange(C-1, -1, -1)\n",
    "    # else:\n",
    "    #    raise ValueError(\"dec_labels not implemented for the given wl_model\")\n",
    "\n",
    "    # Compute virtual matrix (this is to compute virtual labels in a more efficient way\n",
    "    # than the current implementation of ComputeVirtual in WLweakener)\n",
    "    V = np.linalg.pinv(M_b)    \n",
    "    \n",
    "    np.random.seed(0)\n",
    "    mse = []\n",
    "    kld = []\n",
    "    for n in range(n_sim):\n",
    "\n",
    "        # Generate fully labeled dataset\n",
    "        iy = np.random.choice(np.arange(0, C), size=Ktrue, p=eta)\n",
    "        y = I_C[iy]\n",
    "\n",
    "        # Generate weakly labeled dataset\n",
    "        iy2 = np.random.choice(np.arange(0, C), size=Kweak, p=eta)\n",
    "        z2 = WLM.generateWeak(iy2)\n",
    "\n",
    "        # Compute inverted index \n",
    "        z2i = dict(zip(WLM.weak_classes, range(len(WLM.weak_classes))))\n",
    "        # Transform (decimal) weak labels into their corresponding indices in dec_labels.\n",
    "        iz2 = np.array([z2i[zi] for zi in z2])\n",
    "    \n",
    "        # Supervised estimation\n",
    "        f = np.mean(y, axis=0)\n",
    "\n",
    "        # Estimation with virtual labels\n",
    "        # v = wlw.computeVirtual(iz, C, method='Mproper', M=M)\n",
    "        v = V.T[iz2.astype(int)]\n",
    "        f_v = np.mean(v, axis=0)\n",
    "        \n",
    "        # if np.any(f_v<=0):\n",
    "        #     print \"f_v = {0}\".format(f_v)\n",
    "\n",
    "        # Weighted average\n",
    "        f_est = f * w * qTrue + f_v * (1 - w * qTrue)\n",
    "        # f_est = f * w + f_v * (1 - w)\n",
    "        mse_n = np.sum((f_est - eta)**2, axis=1)\n",
    "        mse.append(mse_n)\n",
    "        \n",
    "        kld_n = - np.dot(eta, np.log(f_est.T)) \n",
    "        kld.append(kld_n)\n",
    "\n",
    "    mse_mean =  np.mean(np.array(mse), axis=0)\n",
    "    imin = np.argmin(mse_mean)\n",
    "    wmse.append(w[imin][0])\n",
    "    \n",
    "    kld_mean =  np.mean(np.array(kld), axis=0)\n",
    "    imin = np.argmin(kld_mean)\n",
    "    wkld.append(w[imin][0])"
   ]
  },
  {
   "cell_type": "code",
   "execution_count": 16,
   "metadata": {
    "collapsed": false,
    "jupyter": {
     "outputs_hidden": false
    }
   },
   "outputs": [
    {
     "data": {
      "image/png": "[encoded data removed]",
      "text/plain": [
       "<Figure size 432x288 with 1 Axes>"
      ]
     },
     "metadata": {
      "needs_background": "light"
     },
     "output_type": "display_data"
    }
   ],
   "source": [
    "plt.plot(beta_set, np.array(wmse).flatten(), label=\"MSE\")\n",
    "plt.plot(beta_set, np.array(wkld).flatten(), label=\"KLD\")\n",
    "plt.xlabel('beta (i.e. from low to high noise)')\n",
    "plt.ylabel('wmin')\n",
    "plt.legend(loc='best')\n",
    "plt.show()"
   ]
  },
  {
   "cell_type": "markdown",
   "metadata": {},
   "source": [
    "The last experiment shows several important issues:\n",
    "\n",
    "* The optimal weights could be independent on the choice of the proper loss\n",
    "* The average of the virtual labels can be out of the probability simplex. In this respect, the optimal probability estimate should be computed with the constraint that the estimate lies inside the probability simplex. (Negative values are the cause of the anomalies in the KL divergence weighs that may appear in the above plot).\n"
   ]
  },
  {
   "cell_type": "markdown",
   "metadata": {},
   "source": [
    "### 2.3. A comparison between EM, virtual labels and the optimal weights\n",
    "\n",
    "The following section shows that, despite ML-EM and weak losses may lead to different results, they can show very similar performance, though the results may depend on the selection of the configurable parameters (in particular, label proportions and mixing matrix)."
   ]
  },
  {
   "cell_type": "code",
   "execution_count": 17,
   "metadata": {
    "collapsed": false,
    "jupyter": {
     "outputs_hidden": false
    },
    "scrolled": true
   },
   "outputs": [
    {
     "name": "stdout",
     "output_type": "stream",
     "text": [
      "Beta = 0.90000000000000014[0.00712028101446959, 0.008921571357742419, 0.010186471466342283, 0.010946730080262495, 0.011504407848959257, 0.012142641733064301, 0.013121455015499888, 0.013762122258024312, 0.01399707519037404, 0.01406981947469116]\n",
      "[0.007125839052823808, 0.009088763461559717, 0.011121994395405052, 0.012563949398783296, 0.013364916491234684, 0.013747854062903537, 0.013972319067114304, 0.014114623342767226, 0.014195485254768296, 0.014195266950064763]\n",
      "[0.0071258390528238106, 0.00770508780214043, 0.00836847656145946, 0.009301219390292676, 0.00973237943824512, 0.01021612062931825, 0.01093993226071102, 0.011362406280484372, 0.012459329576613458, 0.012597367293654066]\n"
     ]
    }
   ],
   "source": [
    "Ktrue = 40       # Number of clean labels\n",
    "Kweak = 40       # Number of weak labels       \n",
    "qTrue = float(Ktrue)/(Ktrue + Kweak)\n",
    "qWeak = float(Kweak)/(Ktrue + Kweak)\n",
    "\n",
    "n_betas = 10\n",
    "beta_set = np.linspace(0, 1.0-1.0/n_betas, n_betas)\n",
    "n_sim = 200      # Number of experiments for each value of eta.\n",
    "wmse = []\n",
    "w = np.linspace(0, 1, 101)[:, np.newaxis]/ qTrue\n",
    "\n",
    "mse_w = []\n",
    "mse_v = []\n",
    "mse_ml = []\n",
    "wtest = []\n",
    "wpseudo = []\n",
    "\n",
    "for beta in beta_set:\n",
    "\n",
    "    print(f\"\\rBeta = {beta}\", end=\"\")\n",
    "    \n",
    "    # Mixing matrix\n",
    "    M_b = WLM.computeM(beta=beta, method=wl_model)\n",
    "    # if wl_model == 'quasi_IPL':\n",
    "    #     dec_labels_b = np.arange(0, 2**C)\n",
    "    # elif wl_model in ['noisy', 'random_noise']:\n",
    "    #     dec_labels_b = 2**np.arange(C-1, -1, -1)\n",
    "    # else:\n",
    "    #    raise ValueError(\"dec_labels not implemented for the given wl_model\")\n",
    "    # Remove zero rows\n",
    "    dec_labels_b = WLM.weak_classes\n",
    "    flag = np.nonzero(np.sum(M_b, axis=1))[0]\n",
    "    M_b = M_b[flag, :]   # This is to remove zero rows, which are not relevant\n",
    "    dec_labels_b = dec_labels_b[flag]   # This is to remove zero rows, which are not relevant\n",
    "        \n",
    "    # Compute virtual matrix \n",
    "    # Note that the virtual label matrix is equivalent to the (transpose of the) matrix of virtual labels \n",
    "    # corresponding to the weak labels in dec_labels.\n",
    "    # Computing the virtual matrix here we avoid computing a pseudoinverse inside the \"for\" loop below\n",
    "    V = wlw.virtual_label_matrix(M_b, convex=False)\n",
    "    \n",
    "    # Compute combined mixing matrix\n",
    "    M2 = np.vstack((qTrue*np.eye(C), qWeak*M_b))\n",
    "    V2 = np.linalg.pinv(M2)\n",
    "\n",
    "    np.random.seed(0)\n",
    "    mse_wn = []\n",
    "    mse_vn = []\n",
    "    mse_mln = []\n",
    "\n",
    "    for n in range(n_sim):\n",
    "\n",
    "        # #####################\n",
    "        # ## Dataset generation\n",
    "        \n",
    "        # Generate fully labeled dataset\n",
    "        iy = np.random.choice(np.arange(0, C), size=Ktrue, p=eta)\n",
    "        y = I_C[iy]\n",
    "\n",
    "        # Generate weakly labeled dataset\n",
    "        iy2 = np.random.choice(np.arange(0, C), size=Kweak, p=eta)\n",
    "        z = WLM.generateWeak(iy2)\n",
    "\n",
    "        # Compute inverted index \n",
    "        z2i = dict(zip(dec_labels_b, range(len(dec_labels_b))))\n",
    "        # Transform (decimal) weak labels into their corresponding indices in dec_labels.\n",
    "        iz = np.array([z2i[zi] for zi in z])\n",
    "\n",
    "        # Join datasets\n",
    "        iz2 = np.hstack((iy, iz + C))\n",
    "        \n",
    "        # #######################\n",
    "        # ## Weighted combination\n",
    "        \n",
    "        # Supervised estimation with dataset 0\n",
    "        f = np.mean(y, axis=0)\n",
    "\n",
    "        # Estimation with virtual labels and dataset 1\n",
    "        # v = wlw.computeVirtual(iz, C, method='Mproper', M=M)\n",
    "        v = V.T[iz.astype(int)]\n",
    "        \n",
    "        f_v = np.mean(v, axis=0)\n",
    "        \n",
    "        # Weighted average\n",
    "        f_est = f*w*qTrue + f_v*(1-w*qTrue)\n",
    "        mse_wn.append(np.sum((f_est - eta)**2, axis=1))\n",
    "\n",
    "        # #######################\n",
    "        # ## (pinv) M-proper loss\n",
    "        v2 = V2.T[iz2.astype(int)]\n",
    "        f_v2 = np.mean(v2, axis=0)\n",
    "        mse_vn.append(np.sum((f_v2 - eta)**2))        \n",
    "        \n",
    "        # ##############\n",
    "        # ## ML estimate\n",
    "        f_ml = computeML(iz2, M2, f0=None, max_iter=1000, echo='off')\n",
    "        mse_mln.append(np.sum((f_ml - eta)**2))\n",
    "\n",
    "    mse_mean =  np.mean(np.array(mse_wn), axis=0)\n",
    "    imin = np.argmin(mse_mean)\n",
    "    wmse.append(w[imin][0])\n",
    "    mse_w.append(np.min(mse_mean))\n",
    "\n",
    "    mse_v.append(np.mean(np.array(mse_vn), axis=0))\n",
    "    mse_ml.append(np.mean(np.array(mse_mln), axis=0))\n",
    "    \n",
    "    F11 = qWeak**2 * np.linalg.norm(np.dot(M, V), 'fro')**2\n",
    "    F10 = qWeak**2 * np.linalg.norm(M, 'fro')**2\n",
    "    F01 = qTrue**2 * np.linalg.norm(V, 'fro')**2\n",
    "    F00 = qTrue**2*C\n",
    "    w0= qTrue*C/(F00 + F10)\n",
    "    \n",
    "    wtest.append(qTrue*(F11+F01) / (qTrue**2*(F11+F01) + qWeak**2*(F00+F10)))\n",
    "    wpseudo.append((w0/qTrue-1))\n",
    "    \n",
    "print(mse_w)\n",
    "print(mse_v)\n",
    "print(mse_ml)"
   ]
  },
  {
   "cell_type": "markdown",
   "metadata": {},
   "source": [
    "The next figure shows the MSE obtained with ML-EM (red), virtual labels based on the left inverse of ${\\bf M}$ provided by `pinv` (blue) and virtual labels with the empirically optimal weights. The results may depend on the choice of the mixing matrix, but in general there is a good adjustment between ML and virtual labels. Also, there seem to exist some optimal weight providing and MSE equivalent to ML."
   ]
  },
  {
   "cell_type": "code",
   "execution_count": 18,
   "metadata": {
    "collapsed": false,
    "jupyter": {
     "outputs_hidden": false
    }
   },
   "outputs": [
    {
     "data": {
      "image/png": "[encoded data removed]",
      "text/plain": [
       "<Figure size 432x288 with 1 Axes>"
      ]
     },
     "metadata": {
      "needs_background": "light"
     },
     "output_type": "display_data"
    },
    {
     "name": "stdout",
     "output_type": "stream",
     "text": [
      "[0.0071258390528238106, 0.00770508780214043, 0.00836847656145946, 0.009301219390292676, 0.00973237943824512, 0.01021612062931825, 0.01093993226071102, 0.011362406280484372, 0.012459329576613458, 0.012597367293654066]\n"
     ]
    }
   ],
   "source": [
    "plt.plot(beta_set, np.array(mse_w).flatten(), label=\"WLL_w\")\n",
    "plt.plot(beta_set, np.array(mse_v).flatten(), label=\"WLL\")\n",
    "plt.plot(beta_set, np.array(mse_ml).flatten(), label=\"ML-EM\")\n",
    "plt.xlabel('beta (from low to high noise)')\n",
    "plt.ylabel('mse')\n",
    "# plt.ylim((0, np.max(mse_w)+0.001))\n",
    "plt.legend(loc='best')\n",
    "plt.show()\n",
    "\n",
    "print(mse_ml)"
   ]
  },
  {
   "cell_type": "markdown",
   "metadata": {},
   "source": [
    "In the draft paper I have derived some equations to compute the optimal weights of a combination of two given virtual matrices.\n",
    "These weights are computed below, for different values of beta."
   ]
  },
  {
   "cell_type": "code",
   "execution_count": 19,
   "metadata": {
    "collapsed": false,
    "jupyter": {
     "outputs_hidden": false
    }
   },
   "outputs": [
    {
     "name": "stdout",
     "output_type": "stream",
     "text": [
      "Beta = 0.959999999999999946"
     ]
    }
   ],
   "source": [
    "n_betas = 20\n",
    "beta_set = np.linspace(0, 1-1.0/n_betas, n_betas)\n",
    "\n",
    "wtest = []\n",
    "wpseudo = []\n",
    "\n",
    "for beta in beta_set:\n",
    "\n",
    "    print(f\"\\rBeta = {beta}\", end=\"\")\n",
    "\n",
    "    # Mixing matrix\n",
    "    M = WLM.computeM(C, beta=beta, method=wl_model)\n",
    "\n",
    "    # Compute virtual matrix (this is to compute virtual labels in a more efficient way\n",
    "    # than the current implementation of ComputeVirtual in WLweakener)\n",
    "    V = np.linalg.pinv(M)\n",
    "\n",
    "    # Compute combined mixing matrix\n",
    "    M2 = np.vstack((qTrue*np.eye(C), qWeak*M))\n",
    "    V2 = np.linalg.pinv(M2)\n",
    "\n",
    "    F11 = qWeak**2 * np.linalg.norm(np.dot(M, V), 'fro')**2\n",
    "    F10 = qWeak**2 * np.linalg.norm(M, 'fro')**2\n",
    "    F01 = qTrue**2 * np.linalg.norm(V, 'fro')**2\n",
    "    F00 = qTrue**2*C\n",
    "    w0= qTrue*C/(F00 + F10)\n",
    "    \n",
    "    wtest.append(qTrue*(F11 + F01) / (qTrue**2*(F11+F01) + qWeak**2*(F00+F10)))\n",
    "    wpseudo.append(w0/qTrue-1)"
   ]
  },
  {
   "cell_type": "markdown",
   "metadata": {},
   "source": [
    "Next figure shows the difference between the empirically optimal weights (blue), the prediction (green) and a slight modification of the prediction that seems to improve the adjustment between predicted and optimal weights in a significant manner. No conclusions can be made yet, because there could be errors in the derived equations (to be checked)."
   ]
  },
  {
   "cell_type": "code",
   "execution_count": 20,
   "metadata": {
    "collapsed": false,
    "jupyter": {
     "outputs_hidden": false
    },
    "scrolled": true
   },
   "outputs": [
    {
     "data": {
      "image/png": "[encoded data removed]",
      "text/plain": [
       "<Figure size 432x288 with 1 Axes>"
      ]
     },
     "metadata": {
      "needs_background": "light"
     },
     "output_type": "display_data"
    },
    {
     "name": "stdout",
     "output_type": "stream",
     "text": [
      "[1.02 1.26 1.38 1.48 1.58 1.68 1.8  1.88 1.9  1.92]\n"
     ]
    }
   ],
   "source": [
    "# plt.plot(beta_set, np.array(wmse).flatten(), label=\"Empirical\")\n",
    "plt.plot(beta_set, np.array(wtest).flatten(), label=\"Prediction\")\n",
    "plt.plot(beta_set, np.array(wpseudo).flatten(), label=\"Pseudo-pred\")\n",
    "plt.xlabel('beta (from low to high noise)')\n",
    "plt.ylabel('wmin')\n",
    "plt.legend(loc=\"best\")\n",
    "plt.show()\n",
    "print(np.array(wmse).flatten())"
   ]
  },
  {
   "cell_type": "code",
   "execution_count": 22,
   "metadata": {
    "collapsed": false,
    "jupyter": {
     "outputs_hidden": false
    }
   },
   "outputs": [
    {
     "name": "stdout",
     "output_type": "stream",
     "text": [
      "[0.   0.05 0.1  0.15 0.2  0.25 0.3  0.35 0.4  0.45 0.5  0.55 0.6  0.65\n",
      " 0.7  0.75 0.8  0.85 0.9  0.95 1.  ]\n"
     ]
    }
   ],
   "source": [
    "beta_set = np.linspace(0, 1, 21)\n",
    "print(beta_set)"
   ]
  },
  {
   "cell_type": "code",
   "execution_count": null,
   "metadata": {},
   "outputs": [],
   "source": []
  }
 ],
 "metadata": {
  "anaconda-cloud": {},
  "kernelspec": {
   "display_name": "Python 3",
   "language": "python",
   "name": "python3"
  },
  "language_info": {
   "codemirror_mode": {
    "name": "ipython",
    "version": 3
   },
   "file_extension": ".py",
   "mimetype": "text/x-python",
   "name": "python",
   "nbconvert_exporter": "python",
   "pygments_lexer": "ipython3",
   "version": "3.7.3"
  }
 },
 "nbformat": 4,
 "nbformat_minor": 4
}
