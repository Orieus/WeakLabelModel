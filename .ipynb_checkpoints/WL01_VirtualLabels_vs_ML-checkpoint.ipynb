{
 "cells": [
  {
   "cell_type": "markdown",
   "metadata": {
    "slideshow": {
     "slide_type": "slide"
    }
   },
   "source": [
    "# A point analysis of weak learning models\n",
    "\n",
    "    Notebook version: 1.3 (Dec 28, 2020)\n",
    "\n",
    "    Author: Jesús Cid Sueiro (jcid@tsc.uc3m.es)"
   ]
  },
  {
   "cell_type": "markdown",
   "metadata": {
    "slideshow": {
     "slide_type": "notes"
    }
   },
   "source": [
    "    Changes: v.1.0 - First version\n",
    "             v.1.3 - Implements optimal reconstructions"
   ]
  },
  {
   "cell_type": "code",
   "execution_count": 1,
   "metadata": {
    "collapsed": false,
    "jupyter": {
     "outputs_hidden": false
    },
    "slideshow": {
     "slide_type": "slide"
    }
   },
   "outputs": [],
   "source": [
    "# To visualize plots in the notebook\n",
    "%matplotlib inline \n",
    "import matplotlib.pyplot as plt\n",
    "\n",
    "# Import some libraries that will be necessary for working with data\n",
    "import numpy as np\n",
    "from collections import Counter\n",
    "# from scipy import spatial\n",
    "# from sklearn import neighbors, datasets\n",
    "\n",
    "# Local imports\n",
    "import wlc.WLweakener as wlw\n"
   ]
  },
  {
   "cell_type": "markdown",
   "metadata": {
    "slideshow": {
     "slide_type": "slide"
    }
   },
   "source": [
    "\n",
    "## 1. Introduction.\n",
    "\n",
    "In this notebook we analyze the behavior of sample based estimates of a $C$-dimensional probability vector $\\boldsymbol{\\eta}$ from binary vector instances.\n",
    "\n",
    "The main goal is to compare the behavior of a \"supervised\" estimate, based on a set of labels $\\{{\\bf y}_k, k=0,\\ldots, K-1\\}$ generated from $\\boldsymbol{\\eta}$, and estimates based on weak labels, $\\{{\\bf b}_k, k=0,\\ldots, K-1\\}$, generated from some related distribution ${\\bf q} = {\\bf M}\\boldsymbol{\\eta}$, where ${\\bf M}$ is called a mixing matrix and contains conditional probabilities.\n",
    "\n",
    "To do so, we will generate a dataset of labels drawn from $\\boldsymbol{\\eta}$, and one or more datasets of weak labels drawn from ${\\bf q}$.\n",
    "\n",
    "First we define some configurable parameters:"
   ]
  },
  {
   "cell_type": "code",
   "execution_count": 2,
   "metadata": {
    "collapsed": false,
    "jupyter": {
     "outputs_hidden": false
    }
   },
   "outputs": [],
   "source": [
    "# CONFIGURABLE PARAMETERS FOR THE WHOLE NOTEBOOK\n",
    "K = 100000                         # Sample size\n",
    "eta = np.array([0.5, 0.2, 0.3])   # True probability vector\n",
    "eta = np.array([0.35, 0.3, 0.2, 0.1, 0.03, 0.02])   # True probability vector\n",
    "\n",
    "# Weak Label model. Used to generate the data.\n",
    "# Available options are: quasi_IPL, noisy, random_noise ...\n",
    "wl_model = 'random_weak'   # 'quasi-IPL'    # 'random_noise'   # 'noisy', 'quasi_IPL'\n",
    "\n",
    "# Parameters of the weak label model\n",
    "beta = 0.4\n",
    "\n",
    "# Virtual label model\n",
    "# This is the model used to estimate the virtual label matrix\n",
    "# Available options are: binary, quasi_IPL, M-pinv, M-conv, M-opt, M-opt_conv, ...\n",
    "vl_model = 'M-pinv'\n",
    "\n",
    "# Seed\n",
    "np.random.seed(5)"
   ]
  },
  {
   "cell_type": "markdown",
   "metadata": {},
   "source": [
    "### 1.1. Mixing Matrix.\n",
    "\n",
    "Based on the selected weak label model, we generate and visualize the corresponding mixing matrix."
   ]
  },
  {
   "cell_type": "code",
   "execution_count": null,
   "metadata": {
    "collapsed": false,
    "jupyter": {
     "outputs_hidden": false
    }
   },
   "outputs": [],
   "source": [
    "# Number of classes\n",
    "C = len(eta)   \n",
    "\n",
    "# Mixing matrix\n",
    "WLM = wlw.WLmodel(C, model_class=wl_model)\n",
    "                       \n",
    "# M = WLM.computeM(C, beta=beta, method=wl_model)\n",
    "M = WLM.generateM(alpha=0.96, beta=5)\n",
    "# M = 0.5 * np.eye(C) + 0.5 * M\n",
    "\n",
    "# Number of weak categories\n",
    "n_weak = M.shape[0]\n",
    "\n",
    "# if wl_model == 'quasi-IPL':\n",
    "#     dec_labels = np.arange(0, 2**C)\n",
    "# elif wl_model in ['noisy', 'random_noise']:\n",
    "#     dec_labels = 2**np.arange(C-1, -1, -1)\n",
    "# else:\n",
    "#     raise ValueError(\"dec_labels not implemented for the given wl_model\")\n",
    "\n",
    "# Remove zero rows\n",
    "flag = np.nonzero(np.sum(M, axis=1))[0]\n",
    "# M = M[flag, :]   # This is to remove zero rows, which are not relevant\n",
    "# dec_labels = dec_labels[flag]   # This is to remove zero rows, which are not relevant\n",
    "print(flag)\n",
    "\n",
    "# Show:\n",
    "if n_weak < 5:\n",
    "    print(\"Mixing matrix:\")\n",
    "    print(M)\n",
    "    print(f\"Corresponding to weak label indices {dec_labels}\")\n",
    "\n",
    "plt.figure(figsize=(6, 6))\n",
    "plt.imshow(M, interpolation='nearest', cmap=\"gray\", clim=(0.0, np.max(M))) \n",
    "plt.colorbar()\n",
    "plt.title('Mixing Matrix')\n",
    "plt.xlabel('True label')\n",
    "plt.ylabel('Weak label')\n",
    "plt.xticks([], [])\n",
    "plt.yticks([], [])\n",
    "plt.show()"
   ]
  },
  {
   "cell_type": "code",
   "execution_count": null,
   "metadata": {},
   "outputs": [],
   "source": [
    "M[1:5,:]"
   ]
  },
  {
   "cell_type": "markdown",
   "metadata": {},
   "source": [
    "### 1.2. Weak label priors\n",
    "\n",
    "In the following we analyze the sparsity of the weak label priors by showing the values of the prior weak label probabilities in increasing order."
   ]
  },
  {
   "cell_type": "code",
   "execution_count": 5,
   "metadata": {},
   "outputs": [
    {
     "data": {
      "image/png": "[encoded data removed]",
      "text/plain": [
       "<Figure size 432x288 with 1 Axes>"
      ]
     },
     "metadata": {
      "needs_background": "light"
     },
     "output_type": "display_data"
    },
    {
     "name": "stdout",
     "output_type": "stream",
     "text": [
      "The entropy is 4.136635457540729 (maximum is 4.1588830833596715)\n"
     ]
    }
   ],
   "source": [
    "# True priors\n",
    "p = M @ eta\n",
    "h = - p @ np.log(p).T\n",
    "\n",
    "plt.plot(np.sort(p),'.')\n",
    "plt.ylim((0, plt.ylim()[1]))\n",
    "plt.xlabel('Sorted weak labels')\n",
    "plt.ylabel('Prior probability')\n",
    "plt.show()\n",
    "\n",
    "print(f'The entropy is {h} (maximum is {np.log(len(p))})')"
   ]
  },
  {
   "cell_type": "markdown",
   "metadata": {},
   "source": [
    "### 1.3. Dataset generation.\n",
    "\n",
    "In the following we will generate a dataset of labels and their corresponding weak labels"
   ]
  },
  {
   "cell_type": "code",
   "execution_count": 6,
   "metadata": {
    "collapsed": false,
    "jupyter": {
     "outputs_hidden": false
    }
   },
   "outputs": [
    {
     "name": "stdout",
     "output_type": "stream",
     "text": [
      "[ 0 14 43 ... 48 30 21]\n"
     ]
    }
   ],
   "source": [
    "# Generate true labels\n",
    "I = np.eye(C)\n",
    "iy = np.random.choice(np.arange(0, C), size=K, p=eta)\n",
    "y = I[iy]\n",
    "\n",
    "# Generate weak label indices\n",
    "z = WLM.generateWeak(iy, M)\n",
    "print(z)"
   ]
  },
  {
   "cell_type": "markdown",
   "metadata": {},
   "source": [
    "### 1.4. Supervised, sample based estimation.\n",
    "\n",
    "In the supervised setting, ${\\bf y}$ is observed an the optimal sample based estimate of $\\boldsymbol{\\eta}$ (minimizing any Bregman divergence) based on the observed labels is the sample average"
   ]
  },
  {
   "cell_type": "code",
   "execution_count": 7,
   "metadata": {
    "collapsed": false,
    "jupyter": {
     "outputs_hidden": false
    }
   },
   "outputs": [
    {
     "name": "stdout",
     "output_type": "stream",
     "text": [
      "Supervised estimate: [0.3471  0.30032 0.20272 0.09995 0.02988 0.02003]\n",
      "Square error: 1.592859999999975e-05\n"
     ]
    }
   ],
   "source": [
    "f = np.mean(y, axis=0)\n",
    "print(f\"Supervised estimate: {f}\")\n",
    "e2 = np.sum((f - eta)**2)\n",
    "print(f\"Square error: {e2}\")"
   ]
  },
  {
   "cell_type": "markdown",
   "metadata": {},
   "source": [
    "### 1.5. Learning from weak labels.\n",
    "\n",
    "There are many ways to estimate $\\boldsymbol{\\eta}$ from the weak labels. We consider here a representative sample of them:"
   ]
  },
  {
   "cell_type": "markdown",
   "metadata": {},
   "source": [
    "#### 1.5.1. Reconstruction Matrices\n",
    "\n",
    "In the following we compute the reconstrution matrices based on left-inverses, using the true weak label priors and estimations based on data"
   ]
  },
  {
   "cell_type": "code",
   "execution_count": 8,
   "metadata": {},
   "outputs": [],
   "source": [
    "# Compute reconstruction matrices\n",
    "Y_pinv = wlw.virtual_label_matrix(M, p=None, convex=False)\n",
    "Y_conv = wlw.virtual_label_matrix(M, p=None, convex=True)\n",
    "Y_opt = wlw.virtual_label_matrix(M, p=p, convex=False)\n",
    "Y_opt_conv = wlw.virtual_label_matrix(M, p=p, convex=True)\n",
    "\n",
    "# Compute estimated priors\n",
    "z_count = Counter(z)\n",
    "p_est = np.array([z_count[x] for x in WLM.weak_classes])\n",
    "p_est = p_est / np.sum(p_est)\n",
    "\n",
    "# Compute reconstruction matrices\n",
    "Y_opt_est = wlw.virtual_label_matrix(M, p=p_est, convex=False)\n",
    "Y_opt_conv_est = wlw.virtual_label_matrix(M, p=p_est, convex=True)\n",
    "\n",
    "# Set\n",
    "eta2 = eta.T @ eta\n",
    "mse_pinv = (np.diag(Y_pinv.T @ Y_pinv) @ p - eta2)\n",
    "mse_conv = (np.diag(Y_conv.T @ Y_conv) @ p - eta2)\n",
    "mse_opt = (np.diag(Y_opt.T @ Y_opt) @ p - eta2)\n",
    "mse_opt_conv = (np.diag(Y_opt_conv.T @ Y_opt_conv) @ p - eta2)\n",
    "\n",
    "mse_opt_est = (np.diag(Y_opt_est.T @ Y_opt_est) @ p - eta2)\n",
    "mse_opt_conv_est = (np.diag(Y_opt_conv_est.T @ Y_opt_conv_est) @ p - eta2)\n"
   ]
  },
  {
   "cell_type": "code",
   "execution_count": 9,
   "metadata": {},
   "outputs": [
    {
     "data": {
      "image/png": "[encoded data removed]",
      "text/plain": [
       "<Figure size 432x288 with 1 Axes>"
      ]
     },
     "metadata": {
      "needs_background": "light"
     },
     "output_type": "display_data"
    }
   ],
   "source": [
    "mse_th = {'M-pinv': mse_pinv / K, 'M-conv': mse_conv / K, 'M-opt': mse_opt / K,\n",
    "          'M-opt-conv': mse_opt_conv / K, 'M-opt-est':  mse_opt_est / K,\n",
    "          'M-opt-conv-est': mse_opt_conv_est / K}\n",
    "\n",
    "plt.bar(mse_th.keys(), mse_th.values())\n",
    "plt.xticks(range(len(mse_th)), mse_th, rotation='15')\n",
    "plt.axis('tight')\n",
    "plt.show(block=False)"
   ]
  },
  {
   "cell_type": "markdown",
   "metadata": {},
   "source": [
    "#### 1.5.1. Averaging virtual labels\n",
    "\n",
    "If ${\\bf z}$ is a sample from distribution ${\\bf q}$, and ${\\bf V}$ is any left inverse of the mixing matrix (so that ${\\bf V}{\\bf M} = {\\bf I}$ then it can be shown that $\\mathbb{E}\\{{\\bf v}\\} = \\boldsymbol{\\eta}$. Therefore, the sample average of virtual labels is an umbiased estimate of $\\boldsymbol{\\eta}$."
   ]
  },
  {
   "cell_type": "code",
   "execution_count": 10,
   "metadata": {
    "collapsed": false,
    "jupyter": {
     "outputs_hidden": false
    }
   },
   "outputs": [
    {
     "name": "stdout",
     "output_type": "stream",
     "text": [
      "Computing virtual labels with method M-pinv\n",
      "Virtual labels are: [[-0.32160739  0.09416339 -1.08506399 -1.14817558 -0.50783522  4.02357758]\n",
      " [-0.00813263  2.70253074  0.13062434 -2.15567816  1.49033019 -1.05366043]\n",
      " [-0.94579471  2.67520959 -2.07680857 -1.66173762  1.84941939  0.97238455]\n",
      " ...\n",
      " [ 0.38408718 -0.88207388  1.34030456 -0.37444058  1.9601172  -1.41472516]\n",
      " [-2.2247522  -0.39285043 -2.34826912  2.38947521  0.98393217  2.60190912]\n",
      " [ 0.06645103 -1.7591981   1.46374712  2.19534322 -0.38725349 -0.60556048]]\n",
      "Virtual label estimate: [0.34576049 0.30356463 0.20249583 0.10975937 0.02489443 0.0136479 ]\n",
      "Square error: 0.00019857061060379728\n"
     ]
    }
   ],
   "source": [
    "print(f\"Computing virtual labels with method {vl_model}\")\n",
    "v = WLM.virtual_labels(z, vl_model, M=M, p=p)\n",
    "print(f\"Virtual labels are: {v}\")\n",
    "f_v = np.mean(v, axis=0)\n",
    "\n",
    "print(f\"Virtual label estimate: {f_v}\")\n",
    "e2 = np.sum((f_v - eta)**2)\n",
    "print(f\"Square error: {e2}\")"
   ]
  },
  {
   "cell_type": "markdown",
   "metadata": {},
   "source": [
    "The choice of ${\\bf V}$ is relevant. Different left inverses of the mixing matrix may have better behavior under finite samples."
   ]
  },
  {
   "cell_type": "markdown",
   "metadata": {},
   "source": [
    "#### 1.5.2. Maximum Likelihood Estimate\n",
    "\n",
    "The expected value of a virtual label vector can be shown to be equal to the minimizer of the expected log likelihood. This implies that, on average, the average of the virtual label vector and the ML estimate should be assymptotically equivalent. However, for a finite sample size, they can also lead to different results.\n",
    "\n",
    "The following function computes the ML estimate by means of the EM algorithm."
   ]
  },
  {
   "cell_type": "code",
   "execution_count": 11,
   "metadata": {
    "collapsed": false,
    "jupyter": {
     "outputs_hidden": false
    }
   },
   "outputs": [],
   "source": [
    "def computeML(iz, M, f0=None, max_iter=1e10, echo='off'):\n",
    "    \"\"\"\n",
    "    Compute the ML estimate of a probability vector based on weak labels in iz\n",
    "    and the mixing matrix M.\n",
    "    The estimation method is based on Expectation-Maximization.\n",
    "    \n",
    "    Parameters\n",
    "    ----------\n",
    "    iz       :Observed weak labels\n",
    "    M        :Mixing matrix\n",
    "    f0       :Initial value of the ML estimate.\n",
    "    max_iter :Maximum number of iterations.\n",
    "    echo     :If 'on', output messages are shown\n",
    "\n",
    "    Returns\n",
    "    -------\n",
    "    f_ml     :Maximum likelihood estimate\n",
    "    \"\"\"\n",
    "\n",
    "    # Initialize the estimate.\n",
    "    if f0 is None:\n",
    "        C = M.shape[1]   # No. of classes\n",
    "        f_ml = np.ones(C)/C\n",
    "    else:\n",
    "        f_ml = f0\n",
    "\n",
    "    # Recursive estimation\n",
    "    iterate = True\n",
    "    count = 0\n",
    "    while iterate:\n",
    "        fi = np.dot(np.diag(f_ml), M.T)[:,iz.astype(int)]\n",
    "        fi = fi / np.sum(fi, axis=0)\n",
    "        f_new = np.mean(fi, axis=1)\n",
    "        count += 1\n",
    "        iterate = np.any(f_new != f_ml) and count < max_iter\n",
    "        f_ml = np.copy(f_new)\n",
    "    \n",
    "    if echo=='on':\n",
    "        if count>= max_iter:\n",
    "            print(f\"Stopped before convergence after {max_iter} iterations\")\n",
    "        else:\n",
    "            print(f\"Converged in {count} iterations\")\n",
    "\n",
    "    return f_ml\n",
    "\n",
    "def computeNLL(iz, M, f):\n",
    "    \"\"\"\n",
    "    Compute the Log-Likelihood function for an estimate f.\n",
    "    \"\"\"\n",
    "    \n",
    "    I = np.eye(M.shape[0])\n",
    "    z = I[iz.astype(int)]\n",
    "    NLL = - np.dot(np.mean(z, axis=0), np.log(np.dot(M, f)))\n",
    "\n",
    "    return NLL"
   ]
  },
  {
   "cell_type": "markdown",
   "metadata": {},
   "source": [
    "We can verify that the EM steps monotonically decrease the NLL"
   ]
  },
  {
   "cell_type": "code",
   "execution_count": 12,
   "metadata": {
    "collapsed": false,
    "jupyter": {
     "outputs_hidden": false
    }
   },
   "outputs": [
    {
     "name": "stdout",
     "output_type": "stream",
     "text": [
      "Converged in 7764 iterations\n",
      "Iteration 8106 out of 10000   eta = [0.35 0.3  0.2  0.1  0.03 0.02]\n",
      "f_ml = [0.34650915 0.30110253 0.20327865 0.10974757 0.0260458  0.01331631]\n",
      "f_v = [0.34576049 0.30356463 0.20249583 0.10975937 0.02489443 0.0136479 ]\n"
     ]
    },
    {
     "data": {
      "image/png": "[encoded data removed]",
      "text/plain": [
       "<Figure size 432x288 with 1 Axes>"
      ]
     },
     "metadata": {
      "needs_background": "light"
     },
     "output_type": "display_data"
    },
    {
     "name": "stdout",
     "output_type": "stream",
     "text": [
      "The final estimate is [0.34650915 0.30110253 0.20327865 0.10974757 0.0260458  0.01331631]\n",
      "The true label is [0.35 0.3  0.2  0.1  0.03 0.02]\n"
     ]
    }
   ],
   "source": [
    "n_it = 10000\n",
    "\n",
    "# Compute inverted index \n",
    "z2i = dict(zip(WLM.weak_classes, range(len(WLM.weak_classes))))\n",
    "\n",
    "# Transform (decimal) weak labels into their corresponding indices in dec_labels.\n",
    "iz = np.array([z2i[zi] for zi in z])\n",
    "\n",
    "# Compute weak label proportions\n",
    "I = np.eye(M.shape[0])\n",
    "B = I[iz]\n",
    "q = np.mean(B, axis=0)\n",
    "\n",
    "# Compute ML estimate based on iz and M\n",
    "f_lim = computeML(iz, M, f, max_iter=10000, echo='on')\n",
    "\n",
    "f = None\n",
    "NLL, MSE, KL, MSE_EM = [], [], [], []\n",
    "\n",
    "for i in range(n_it):\n",
    "    print(f\"\\rIteration {i} out of {n_it}   \", end=\"\")\n",
    "\n",
    "    # Apply a single iteration of EM (max_iter=1) to see the evolution\n",
    "    f_new = computeML(iz, M, f, max_iter=1)\n",
    "    \n",
    "    # If the EM has converged, we stop iterating\n",
    "    if f is not None and np.all(f_new == f):\n",
    "        break\n",
    "\n",
    "    # Update EM estimate.\n",
    "    f = np.copy(f_new)\n",
    "\n",
    "    # NLL.append(computeNLL(iz, M, f) + np.dot(q, np.log(q)))\n",
    "    NLL.append(computeNLL(iz, M, f) + q @ np.log(M @ f_lim))\n",
    "    MSE.append(np.sum((f - eta)**2))\n",
    "    KL.append(- eta @ np.log(f) + eta @ np.log(eta))\n",
    "    MSE_EM.append(np.sum((f - f_lim)**2))\n",
    "\n",
    "print(f\"eta = {eta}\")\n",
    "print(f\"f_ml = {f}\")\n",
    "print(f\"f_v = {f_v}\")\n",
    "its = range(len(NLL))\n",
    "plt.loglog(its, NLL, label= \"Normalized NLL\")\n",
    "plt.loglog(its, MSE_EM, label= \"MSE_EM\")\n",
    "plt.loglog(its, MSE, label= \"MSE\")\n",
    "plt.loglog(its, KL, label= \"KL divergence\")\n",
    "plt.legend(loc='best')\n",
    "plt.axis('tight')\n",
    "plt.xlabel('Iteration')\n",
    "# plt.ylim((1e-7, plt.ylim()[1]))\n",
    "plt.ylim((1e-7, max([max(MSE), max(KL), max(MSE_EM), max(NLL)])))\n",
    "plt.show()\n",
    "print(f\"The final estimate is {f}\")\n",
    "print(f\"The true label is {eta}\")\n"
   ]
  },
  {
   "cell_type": "markdown",
   "metadata": {},
   "source": [
    "In the figure above, we can expect that both the *Normalized NLL* and the *MSE_EM* converge to zero, because both measures are based on the comparison with the limit value. The curves are usefull to verify that the error measures decrease monotonically.\n",
    "\n",
    "The *MSE* and the *KL divergence*, which are computed with respect to the true probability vector, $\\boldsymbol{\\eta}$, do not usually converge to zero, because, due to the finite sample size, the EM iterations does not converge exactly to $\\boldsymbol{\\eta}$, but to a close value, ${\\bf f}_\\text{lim}$. Yoy may check that the limit values of these error measures are smaller when the sample size increases."
   ]
  },
  {
   "cell_type": "code",
   "execution_count": 13,
   "metadata": {
    "collapsed": false,
    "jupyter": {
     "outputs_hidden": false
    }
   },
   "outputs": [
    {
     "ename": "KeyboardInterrupt",
     "evalue": "",
     "output_type": "error",
     "traceback": [
      "\u001b[0;31m---------------------------------------------------------------------------\u001b[0m",
      "\u001b[0;31mKeyboardInterrupt\u001b[0m                         Traceback (most recent call last)",
      "\u001b[0;32m<ipython-input-13-5aee4d153c39>\u001b[0m in \u001b[0;36m<module>\u001b[0;34m\u001b[0m\n\u001b[0;32m----> 1\u001b[0;31m \u001b[0mf_ml\u001b[0m \u001b[0;34m=\u001b[0m \u001b[0mcomputeML\u001b[0m\u001b[0;34m(\u001b[0m\u001b[0miz\u001b[0m\u001b[0;34m,\u001b[0m \u001b[0mM\u001b[0m\u001b[0;34m,\u001b[0m \u001b[0mmax_iter\u001b[0m\u001b[0;34m=\u001b[0m\u001b[0;36m100000\u001b[0m\u001b[0;34m,\u001b[0m \u001b[0mecho\u001b[0m\u001b[0;34m=\u001b[0m\u001b[0;34m'on'\u001b[0m\u001b[0;34m)\u001b[0m\u001b[0;34m\u001b[0m\u001b[0;34m\u001b[0m\u001b[0m\n\u001b[0m\u001b[1;32m      2\u001b[0m \u001b[0;34m\u001b[0m\u001b[0m\n\u001b[1;32m      3\u001b[0m \u001b[0mprint\u001b[0m\u001b[0;34m(\u001b[0m\u001b[0;34mf\"ML estimate: {f_ml}\"\u001b[0m\u001b[0;34m)\u001b[0m\u001b[0;34m\u001b[0m\u001b[0;34m\u001b[0m\u001b[0m\n\u001b[1;32m      4\u001b[0m \u001b[0me2\u001b[0m \u001b[0;34m=\u001b[0m \u001b[0mnp\u001b[0m\u001b[0;34m.\u001b[0m\u001b[0msum\u001b[0m\u001b[0;34m(\u001b[0m\u001b[0;34m(\u001b[0m\u001b[0mf_ml\u001b[0m \u001b[0;34m-\u001b[0m \u001b[0meta\u001b[0m\u001b[0;34m)\u001b[0m\u001b[0;34m**\u001b[0m\u001b[0;36m2\u001b[0m\u001b[0;34m)\u001b[0m\u001b[0;34m\u001b[0m\u001b[0;34m\u001b[0m\u001b[0m\n\u001b[1;32m      5\u001b[0m \u001b[0mprint\u001b[0m\u001b[0;34m(\u001b[0m\u001b[0;34mf\"Square error: {e2}\"\u001b[0m\u001b[0;34m)\u001b[0m\u001b[0;34m\u001b[0m\u001b[0;34m\u001b[0m\u001b[0m\n",
      "\u001b[0;32m<ipython-input-11-39c9c9d08257>\u001b[0m in \u001b[0;36mcomputeML\u001b[0;34m(iz, M, f0, max_iter, echo)\u001b[0m\n\u001b[1;32m     30\u001b[0m     \u001b[0;32mwhile\u001b[0m \u001b[0miterate\u001b[0m\u001b[0;34m:\u001b[0m\u001b[0;34m\u001b[0m\u001b[0;34m\u001b[0m\u001b[0m\n\u001b[1;32m     31\u001b[0m         \u001b[0mfi\u001b[0m \u001b[0;34m=\u001b[0m \u001b[0mnp\u001b[0m\u001b[0;34m.\u001b[0m\u001b[0mdot\u001b[0m\u001b[0;34m(\u001b[0m\u001b[0mnp\u001b[0m\u001b[0;34m.\u001b[0m\u001b[0mdiag\u001b[0m\u001b[0;34m(\u001b[0m\u001b[0mf_ml\u001b[0m\u001b[0;34m)\u001b[0m\u001b[0;34m,\u001b[0m \u001b[0mM\u001b[0m\u001b[0;34m.\u001b[0m\u001b[0mT\u001b[0m\u001b[0;34m)\u001b[0m\u001b[0;34m[\u001b[0m\u001b[0;34m:\u001b[0m\u001b[0;34m,\u001b[0m\u001b[0miz\u001b[0m\u001b[0;34m.\u001b[0m\u001b[0mastype\u001b[0m\u001b[0;34m(\u001b[0m\u001b[0mint\u001b[0m\u001b[0;34m)\u001b[0m\u001b[0;34m]\u001b[0m\u001b[0;34m\u001b[0m\u001b[0;34m\u001b[0m\u001b[0m\n\u001b[0;32m---> 32\u001b[0;31m         \u001b[0mfi\u001b[0m \u001b[0;34m=\u001b[0m \u001b[0mfi\u001b[0m \u001b[0;34m/\u001b[0m \u001b[0mnp\u001b[0m\u001b[0;34m.\u001b[0m\u001b[0msum\u001b[0m\u001b[0;34m(\u001b[0m\u001b[0mfi\u001b[0m\u001b[0;34m,\u001b[0m \u001b[0maxis\u001b[0m\u001b[0;34m=\u001b[0m\u001b[0;36m0\u001b[0m\u001b[0;34m)\u001b[0m\u001b[0;34m\u001b[0m\u001b[0;34m\u001b[0m\u001b[0m\n\u001b[0m\u001b[1;32m     33\u001b[0m         \u001b[0mf_new\u001b[0m \u001b[0;34m=\u001b[0m \u001b[0mnp\u001b[0m\u001b[0;34m.\u001b[0m\u001b[0mmean\u001b[0m\u001b[0;34m(\u001b[0m\u001b[0mfi\u001b[0m\u001b[0;34m,\u001b[0m \u001b[0maxis\u001b[0m\u001b[0;34m=\u001b[0m\u001b[0;36m1\u001b[0m\u001b[0;34m)\u001b[0m\u001b[0;34m\u001b[0m\u001b[0;34m\u001b[0m\u001b[0m\n\u001b[1;32m     34\u001b[0m         \u001b[0mcount\u001b[0m \u001b[0;34m+=\u001b[0m \u001b[0;36m1\u001b[0m\u001b[0;34m\u001b[0m\u001b[0;34m\u001b[0m\u001b[0m\n",
      "\u001b[0;32m<__array_function__ internals>\u001b[0m in \u001b[0;36msum\u001b[0;34m(*args, **kwargs)\u001b[0m\n",
      "\u001b[0;32m~/anaconda3/lib/python3.7/site-packages/numpy/core/fromnumeric.py\u001b[0m in \u001b[0;36msum\u001b[0;34m(a, axis, dtype, out, keepdims, initial, where)\u001b[0m\n\u001b[1;32m   2227\u001b[0m \u001b[0;34m\u001b[0m\u001b[0m\n\u001b[1;32m   2228\u001b[0m     return _wrapreduction(a, np.add, 'sum', axis, dtype, out, keepdims=keepdims,\n\u001b[0;32m-> 2229\u001b[0;31m                           initial=initial, where=where)\n\u001b[0m\u001b[1;32m   2230\u001b[0m \u001b[0;34m\u001b[0m\u001b[0m\n\u001b[1;32m   2231\u001b[0m \u001b[0;34m\u001b[0m\u001b[0m\n",
      "\u001b[0;32m~/anaconda3/lib/python3.7/site-packages/numpy/core/fromnumeric.py\u001b[0m in \u001b[0;36m_wrapreduction\u001b[0;34m(obj, ufunc, method, axis, dtype, out, **kwargs)\u001b[0m\n\u001b[1;32m     88\u001b[0m                 \u001b[0;32mreturn\u001b[0m \u001b[0mreduction\u001b[0m\u001b[0;34m(\u001b[0m\u001b[0maxis\u001b[0m\u001b[0;34m=\u001b[0m\u001b[0maxis\u001b[0m\u001b[0;34m,\u001b[0m \u001b[0mout\u001b[0m\u001b[0;34m=\u001b[0m\u001b[0mout\u001b[0m\u001b[0;34m,\u001b[0m \u001b[0;34m**\u001b[0m\u001b[0mpasskwargs\u001b[0m\u001b[0;34m)\u001b[0m\u001b[0;34m\u001b[0m\u001b[0;34m\u001b[0m\u001b[0m\n\u001b[1;32m     89\u001b[0m \u001b[0;34m\u001b[0m\u001b[0m\n\u001b[0;32m---> 90\u001b[0;31m     \u001b[0;32mreturn\u001b[0m \u001b[0mufunc\u001b[0m\u001b[0;34m.\u001b[0m\u001b[0mreduce\u001b[0m\u001b[0;34m(\u001b[0m\u001b[0mobj\u001b[0m\u001b[0;34m,\u001b[0m \u001b[0maxis\u001b[0m\u001b[0;34m,\u001b[0m \u001b[0mdtype\u001b[0m\u001b[0;34m,\u001b[0m \u001b[0mout\u001b[0m\u001b[0;34m,\u001b[0m \u001b[0;34m**\u001b[0m\u001b[0mpasskwargs\u001b[0m\u001b[0;34m)\u001b[0m\u001b[0;34m\u001b[0m\u001b[0;34m\u001b[0m\u001b[0m\n\u001b[0m\u001b[1;32m     91\u001b[0m \u001b[0;34m\u001b[0m\u001b[0m\n\u001b[1;32m     92\u001b[0m \u001b[0;34m\u001b[0m\u001b[0m\n",
      "\u001b[0;31mKeyboardInterrupt\u001b[0m: "
     ]
    }
   ],
   "source": [
    "f_ml = computeML(iz, M, max_iter=100000, echo='on')\n",
    "\n",
    "print(f\"ML estimate: {f_ml}\")\n",
    "e2 = np.sum((f_ml - eta)**2)\n",
    "print(f\"Square error: {e2}\")"
   ]
  },
  {
   "cell_type": "markdown",
   "metadata": {},
   "source": [
    "## 2. Statistical analysis of the MSE.\n",
    "\n",
    "We will compute all estimates multiple times in order to compare the distribution of the MSE.\n",
    "\n",
    "First, to make sure that the WLL estimate is working properly, we plot the convergence of the estimate with the number of iterations"
   ]
  },
  {
   "cell_type": "code",
   "execution_count": null,
   "metadata": {
    "collapsed": false,
    "jupyter": {
     "outputs_hidden": false
    },
    "scrolled": true
   },
   "outputs": [],
   "source": [
    "n_sim = 100\n",
    "mse = {'wll': []}\n",
    "K = 1000\n",
    "for n in range(n_sim):\n",
    " \n",
    "    if (n+1)/1*1 == n+1:\n",
    "        print(f'\\r Simulation {n+1} out of {n_sim}', end=\"\"),\n",
    "    # Generate true labels\n",
    "    iy = np.random.choice(np.arange(0, C), size=K, p=eta)\n",
    "\n",
    "    # Generate weak label indices\n",
    "    z = WLM.generateWeak(iy, M)\n",
    "\n",
    "    # Estimation with virtual labels (M and dec_labels are not used if vl_model=='Mproper')\n",
    "    v = WLM.virtual_labels(z, vl_model, M=M, p=p)\n",
    "        \n",
    "    f_v = np.cumsum(v, axis=0) / np.arange(1, K+1)[:,np.newaxis]\n",
    "    mse_n = np.sum((f_v - eta)**2, axis=1)\n",
    "    mse['wll'].append(mse_n)    "
   ]
  },
  {
   "cell_type": "code",
   "execution_count": null,
   "metadata": {
    "collapsed": false,
    "jupyter": {
     "outputs_hidden": false
    }
   },
   "outputs": [],
   "source": [
    "mse_mean = np.mean(mse['wll'], axis=0)\n",
    "d = mse['wll'] - mse_mean\n",
    "mse_std_u = np.sqrt(np.sum(d**2*(d >=0), axis=0)/np.sum((d >=0), axis=0))\n",
    "mse_std_d = np.sqrt(np.sum(d**2*(d <=0), axis=0)/np.sum((d <=0), axis=0))\n",
    "plt.fill_between(range(K), mse_mean - mse_std_d, mse_mean + mse_std_u,\n",
    "    alpha=0.2, edgecolor='#1B2ACC', facecolor='#089FFF',\n",
    "    linewidth=1, linestyle='solid', antialiased=True)\n",
    "plt.loglog(range(K), mse_mean)\n",
    "plt.axis('tight')\n",
    "plt.xlabel('Sample size')\n",
    "plt.ylabel('Average square error')\n",
    "plt.show()"
   ]
  },
  {
   "cell_type": "markdown",
   "metadata": {},
   "source": [
    "### 2.1. Supervision vs partial supervision\n",
    "\n",
    "In the following we test, for a fixed sample size, the estimation of $\\boldsymbol{\\eta}$ as the average of virtual labels, in comparison with a complete supervision (i.e., as the average of the true labels)."
   ]
  },
  {
   "cell_type": "code",
   "execution_count": null,
   "metadata": {
    "collapsed": false,
    "jupyter": {
     "outputs_hidden": false
    }
   },
   "outputs": [],
   "source": [
    "K = 1000\n",
    "n_sim = 100\n",
    "vl_models = ['M-pinv', 'M-conv', 'M-opt-conv', 'M-opt']\n",
    "tag_list = vl_models + ['wml', 'sup']\n",
    "tag_list = ['wml'] + vl_models\n",
    "mse = {x: [] for x in tag_list}\n",
    "mse2 = {x: [] for x in tag_list}\n",
    "\n",
    "I_C = np.eye(C)\n",
    "np.random.seed(3)\n",
    "\n",
    "Y_pinv = wlw.virtual_label_matrix(M, p=None, convex=False)\n",
    "Y_conv = wlw.virtual_label_matrix(M, p=None, convex=True)\n",
    "Y_opt = wlw.virtual_label_matrix(M, p=p, convex=False)\n",
    "Y_opt_conv = wlw.virtual_label_matrix(M, p=p, convex=True)\n",
    "Y_all = {'M-pinv': Y_pinv, 'M-conv': Y_conv, 'M-opt': Y_opt, 'M-opt-conv': Y_opt_conv}\n",
    "\n",
    "for n in range(n_sim):\n",
    " \n",
    "    if (n+1)/1*1 == n+1:\n",
    "        print(f'\\r Simulation {n+1} out of {n_sim}', end=\"\"),\n",
    "\n",
    "    # Generate true labels\n",
    "    iy = np.random.choice(np.arange(0, C), size=K, p=eta)\n",
    "    y = I_C[iy]\n",
    "\n",
    "    # Generate weak label indices\n",
    "    z = WLM.generateWeak(iy, M)\n",
    "    iz = np.array([z2i[zi] for zi in z])\n",
    "\n",
    "    # Supervised estimation\n",
    "    # f = np.mean(y, axis=0)\n",
    "    # mse['sup'].append(np.sum((f - eta)**2))\n",
    "\n",
    "    # Estimation with ML-EM\n",
    "    f_ml = computeML(iz, M, f0=None, max_iter=1000, echo='off')\n",
    "    mse['wml'].append(np.sum((f_ml - eta)**2))\n",
    "\n",
    "    z_count = Counter(z)\n",
    "    p_est = np.array([z_count[x] for x in WLM.weak_classes])\n",
    "    p_est = p_est / np.sum(p_est)\n",
    "    p_reg = (p_est + 1) / (np.sum(p_est) + len(p_est))\n",
    "    p_reg = M @ np.linalg.lstsq(M, p_est, rcond=None)[0]\n",
    "    # In some cases, cvxpy raises an error \"problem does not follow dcp rules\". To avoid this, \n",
    "    # regularizing by some small eps may help:\n",
    "    # eps = 0.005\n",
    "    # p_reg = (p_reg + eps) / np.sum(p_reg + eps)\n",
    "    \n",
    "    for vl_model in vl_models:\n",
    "        # Estimation with virtual labels\n",
    "        # v = WLM.virtual_labels(z, method=vl_model, M=M, p=p)\n",
    "\n",
    "        if vl_model == 'M-pinv':\n",
    "            v = WLM.virtual_labels_from_Y(z, Y_pinv)\n",
    "        elif vl_model == 'M-conv':\n",
    "            v = WLM.virtual_labels_from_Y(z, Y_conv)\n",
    "        elif vl_model == 'M-opt':\n",
    "            Y = wlw.virtual_label_matrix(M, p_reg, convex=False)\n",
    "            v = WLM.virtual_labels_from_Y(z, Y)\n",
    "        elif vl_model == 'M-opt-conv':\n",
    "            Y = wlw.virtual_label_matrix(M, p_reg, convex=True)\n",
    "            v = WLM.virtual_labels_from_Y(z, Y)\n",
    "\n",
    "        f_v = np.mean(v, axis=0)\n",
    "        mse[vl_model].append(np.sum((f_v - eta)**2))\n",
    "\n",
    "mse_emp = [np.mean(mse[x]) for x in tag_list]\n",
    "print(vl_models)\n",
    "print(mse_emp[2:])"
   ]
  },
  {
   "cell_type": "code",
   "execution_count": null,
   "metadata": {},
   "outputs": [],
   "source": [
    "p_est"
   ]
  },
  {
   "cell_type": "markdown",
   "metadata": {},
   "source": [
    "The following error plots shows the performance degradation caused by the use of weak labels. Under very weak supervision, there is a significant degradation."
   ]
  },
  {
   "cell_type": "code",
   "execution_count": null,
   "metadata": {
    "collapsed": false,
    "jupyter": {
     "outputs_hidden": false
    }
   },
   "outputs": [],
   "source": [
    "for i, tag in enumerate(tag_list):\n",
    "    plt.scatter([i + 1]*n_sim, mse[tag], c=[i]*n_sim, s=10, cmap='copper')\n",
    "plt.xticks(range(1, 1 + len(tag_list)), tag_list, rotation='45')\n",
    "plt.axis('tight')\n",
    "plt.ylim((0, plt.ylim()[1]))\n",
    "plt.show(block=False)\n",
    "\n",
    "#for i, tag in enumerate(tag_list):\n",
    "#     plt.bar([i + 1]*n_sim, np.mean(mse[tag]))\n",
    "# plt.xticks(range(1, 1 + len(tag_list)), tag_list, rotation='45')\n",
    "# plt.axis('tight')\n",
    "# plt.ylim((0, plt.ylim()[1]))\n",
    "# plt.show(block=False)\n",
    "\n",
    "# plt.boxplot([mse[tag] for tag in tag_list])\n",
    "# plt.xticks(range(1, 1 + len(tag_list)), tag_list, rotation='45')\n",
    "# plt.show()"
   ]
  },
  {
   "cell_type": "code",
   "execution_count": null,
   "metadata": {},
   "outputs": [],
   "source": [
    "mse_emp = [np.mean(mse[x]) for x in tag_list]\n",
    "mse_th = {'M-pinv': mse_pinv / K, 'M-conv': mse_conv / K, 'M-opt': mse_opt / K,\n",
    "          'M-opt-conv': mse_opt_conv / K, 'M-opt-est':  mse_opt_est / K,\n",
    "          'M-opt-conv-est': mse_opt_conv_est / K}\n",
    "\n",
    "for x in tag_list:\n",
    "    if x not in mse_th:\n",
    "        mse_th[x] = np.nan\n",
    "mse_th2 = [mse_th[x] for x in tag_list ]\n",
    "print(mse_th2)\n",
    "\n",
    "x = np.arange(len(tag_list))  # the label locations\n",
    "width = 0.35  # the width of the bars\n",
    "\n",
    "fig, ax = plt.subplots()\n",
    "rects1 = ax.bar(x - width/2, mse_emp, width, label='Empirical')\n",
    "rects2 = ax.bar(x + width/2, mse_th2, width, label='Theoretical')\n",
    "\n",
    "# Add some text for labels, title and custom x-axis tick labels, etc.\n",
    "ax.set_ylabel('MSE')\n",
    "ax.set_xticks(x)\n",
    "ax.set_xticklabels(tag_list, rotation='10')\n",
    "ax.legend(loc='lower right')\n",
    "\n",
    "def autolabel(rects):\n",
    "    \"\"\"Attach a text label above each bar in *rects*, displaying its height.\"\"\"\n",
    "    for rect in rects:\n",
    "        height = rect.get_height()\n",
    "        ax.annotate('{:.5f}'.format(height),\n",
    "                    xy=(rect.get_x() + rect.get_width() / 2, height),\n",
    "                    xytext=(0, 3),  # 3 points vertical offset\n",
    "                    textcoords=\"offset points\", ha='center', va='bottom')\n",
    "\n",
    "#ax.set_ylim((0, 1.2 * max(np.max(mse_emp), np.max(mse_th2))))\n",
    "autolabel(rects1)\n",
    "autolabel(rects2)\n",
    "fig.tight_layout()\n",
    "plt.show()"
   ]
  }
 ],
 "metadata": {
  "anaconda-cloud": {},
  "kernelspec": {
   "display_name": "Python 3",
   "language": "python",
   "name": "python3"
  },
  "language_info": {
   "codemirror_mode": {
    "name": "ipython",
    "version": 3
   },
   "file_extension": ".py",
   "mimetype": "text/x-python",
   "name": "python",
   "nbconvert_exporter": "python",
   "pygments_lexer": "ipython3",
   "version": "3.7.3"
  }
 },
 "nbformat": 4,
 "nbformat_minor": 4
}
